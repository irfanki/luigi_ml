{
 "cells": [
  {
   "cell_type": "code",
   "execution_count": 61,
   "metadata": {},
   "outputs": [
    {
     "name": "stdout",
     "output_type": "stream",
     "text": [
      "Requirement already satisfied: pandas in /home/irfan/.local/lib/python3.8/site-packages (1.1.0)\n",
      "Requirement already satisfied: pytz>=2017.2 in /usr/lib/python3/dist-packages (from pandas) (2019.3)\n",
      "Requirement already satisfied: numpy>=1.15.4 in /home/irfan/.local/lib/python3.8/site-packages (from pandas) (1.19.1)\n",
      "Requirement already satisfied: python-dateutil>=2.7.3 in /usr/lib/python3/dist-packages (from pandas) (2.7.3)\n",
      "Requirement already satisfied: numpy in /home/irfan/.local/lib/python3.8/site-packages (1.19.1)\n",
      "Requirement already satisfied: scikit-learn in /home/irfan/.local/lib/python3.8/site-packages (0.23.2)\n",
      "Requirement already satisfied: numpy>=1.13.3 in /home/irfan/.local/lib/python3.8/site-packages (from scikit-learn) (1.19.1)\n",
      "Requirement already satisfied: joblib>=0.11 in /home/irfan/.local/lib/python3.8/site-packages (from scikit-learn) (0.16.0)\n",
      "Requirement already satisfied: threadpoolctl>=2.0.0 in /home/irfan/.local/lib/python3.8/site-packages (from scikit-learn) (2.1.0)\n",
      "Requirement already satisfied: scipy>=0.19.1 in /home/irfan/.local/lib/python3.8/site-packages (from scikit-learn) (1.5.2)\n",
      "Requirement already satisfied: scipy in /home/irfan/.local/lib/python3.8/site-packages (1.5.2)\n",
      "Requirement already satisfied: numpy>=1.14.5 in /home/irfan/.local/lib/python3.8/site-packages (from scipy) (1.19.1)\n"
     ]
    }
   ],
   "source": [
    "!pip3 install pandas\n",
    "!pip3 install numpy\n",
    "!pip3 install scikit-learn\n",
    "!pip3 install scipy"
   ]
  },
  {
   "cell_type": "code",
   "execution_count": 62,
   "metadata": {},
   "outputs": [],
   "source": [
    "import pandas as pd"
   ]
  },
  {
   "cell_type": "code",
   "execution_count": 63,
   "metadata": {},
   "outputs": [
    {
     "name": "stdout",
     "output_type": "stream",
     "text": [
      "airline_tweets.csv  Kinaxis.ipynb  pipeline.py\trequirements.txt  venv\r\n",
      "cities.csv\t    main.py\t   README.md\trun.sh\r\n"
     ]
    }
   ],
   "source": [
    "!ls"
   ]
  },
  {
   "cell_type": "code",
   "execution_count": 64,
   "metadata": {},
   "outputs": [],
   "source": [
    "df_airline = pd.read_csv(\"airline_tweets.csv\", engine='python')\n",
    "df_cities = pd.read_csv(\"cities.csv\")"
   ]
  },
  {
   "cell_type": "code",
   "execution_count": 65,
   "metadata": {},
   "outputs": [
    {
     "data": {
      "text/html": [
       "<div>\n",
       "<style scoped>\n",
       "    .dataframe tbody tr th:only-of-type {\n",
       "        vertical-align: middle;\n",
       "    }\n",
       "\n",
       "    .dataframe tbody tr th {\n",
       "        vertical-align: top;\n",
       "    }\n",
       "\n",
       "    .dataframe thead th {\n",
       "        text-align: right;\n",
       "    }\n",
       "</style>\n",
       "<table border=\"1\" class=\"dataframe\">\n",
       "  <thead>\n",
       "    <tr style=\"text-align: right;\">\n",
       "      <th></th>\n",
       "      <th>_unit_id</th>\n",
       "      <th>_golden</th>\n",
       "      <th>_unit_state</th>\n",
       "      <th>_trusted_judgments</th>\n",
       "      <th>_last_judgment_at</th>\n",
       "      <th>airline_sentiment</th>\n",
       "      <th>airline_sentiment:confidence</th>\n",
       "      <th>negativereason</th>\n",
       "      <th>negativereason:confidence</th>\n",
       "      <th>airline</th>\n",
       "      <th>airline_sentiment_gold</th>\n",
       "      <th>name</th>\n",
       "      <th>negativereason_gold</th>\n",
       "      <th>retweet_count</th>\n",
       "      <th>text</th>\n",
       "      <th>tweet_coord</th>\n",
       "      <th>tweet_created</th>\n",
       "      <th>tweet_id</th>\n",
       "      <th>tweet_location</th>\n",
       "      <th>user_timezone</th>\n",
       "    </tr>\n",
       "  </thead>\n",
       "  <tbody>\n",
       "    <tr>\n",
       "      <th>0</th>\n",
       "      <td>681448150</td>\n",
       "      <td>False</td>\n",
       "      <td>finalized</td>\n",
       "      <td>3</td>\n",
       "      <td>2/25/15 5:24</td>\n",
       "      <td>neutral</td>\n",
       "      <td>1.0000</td>\n",
       "      <td>NaN</td>\n",
       "      <td>NaN</td>\n",
       "      <td>Virgin America</td>\n",
       "      <td>NaN</td>\n",
       "      <td>cairdin</td>\n",
       "      <td>NaN</td>\n",
       "      <td>0</td>\n",
       "      <td>@VirginAmerica What @dhepburn said.</td>\n",
       "      <td>NaN</td>\n",
       "      <td>2/24/15 11:35</td>\n",
       "      <td>5.703060e+17</td>\n",
       "      <td>NaN</td>\n",
       "      <td>Eastern Time (US &amp; Canada)</td>\n",
       "    </tr>\n",
       "    <tr>\n",
       "      <th>1</th>\n",
       "      <td>681448153</td>\n",
       "      <td>False</td>\n",
       "      <td>finalized</td>\n",
       "      <td>3</td>\n",
       "      <td>2/25/15 1:53</td>\n",
       "      <td>positive</td>\n",
       "      <td>0.3486</td>\n",
       "      <td>NaN</td>\n",
       "      <td>0.0</td>\n",
       "      <td>Virgin America</td>\n",
       "      <td>NaN</td>\n",
       "      <td>jnardino</td>\n",
       "      <td>NaN</td>\n",
       "      <td>0</td>\n",
       "      <td>@VirginAmerica plus you've added commercials t...</td>\n",
       "      <td>NaN</td>\n",
       "      <td>2/24/15 11:15</td>\n",
       "      <td>5.703010e+17</td>\n",
       "      <td>NaN</td>\n",
       "      <td>Pacific Time (US &amp; Canada)</td>\n",
       "    </tr>\n",
       "    <tr>\n",
       "      <th>2</th>\n",
       "      <td>681448156</td>\n",
       "      <td>False</td>\n",
       "      <td>finalized</td>\n",
       "      <td>3</td>\n",
       "      <td>2/25/15 10:01</td>\n",
       "      <td>neutral</td>\n",
       "      <td>0.6837</td>\n",
       "      <td>NaN</td>\n",
       "      <td>NaN</td>\n",
       "      <td>Virgin America</td>\n",
       "      <td>NaN</td>\n",
       "      <td>yvonnalynn</td>\n",
       "      <td>NaN</td>\n",
       "      <td>0</td>\n",
       "      <td>@VirginAmerica I didn't today... Must mean I n...</td>\n",
       "      <td>NaN</td>\n",
       "      <td>2/24/15 11:15</td>\n",
       "      <td>5.703010e+17</td>\n",
       "      <td>Lets Play</td>\n",
       "      <td>Central Time (US &amp; Canada)</td>\n",
       "    </tr>\n",
       "  </tbody>\n",
       "</table>\n",
       "</div>"
      ],
      "text/plain": [
       "    _unit_id  _golden _unit_state  _trusted_judgments _last_judgment_at  \\\n",
       "0  681448150    False   finalized                   3      2/25/15 5:24   \n",
       "1  681448153    False   finalized                   3      2/25/15 1:53   \n",
       "2  681448156    False   finalized                   3     2/25/15 10:01   \n",
       "\n",
       "  airline_sentiment  airline_sentiment:confidence negativereason  \\\n",
       "0           neutral                        1.0000            NaN   \n",
       "1          positive                        0.3486            NaN   \n",
       "2           neutral                        0.6837            NaN   \n",
       "\n",
       "   negativereason:confidence         airline airline_sentiment_gold  \\\n",
       "0                        NaN  Virgin America                    NaN   \n",
       "1                        0.0  Virgin America                    NaN   \n",
       "2                        NaN  Virgin America                    NaN   \n",
       "\n",
       "         name negativereason_gold  retweet_count  \\\n",
       "0     cairdin                 NaN              0   \n",
       "1    jnardino                 NaN              0   \n",
       "2  yvonnalynn                 NaN              0   \n",
       "\n",
       "                                                text tweet_coord  \\\n",
       "0                @VirginAmerica What @dhepburn said.         NaN   \n",
       "1  @VirginAmerica plus you've added commercials t...         NaN   \n",
       "2  @VirginAmerica I didn't today... Must mean I n...         NaN   \n",
       "\n",
       "   tweet_created      tweet_id tweet_location               user_timezone  \n",
       "0  2/24/15 11:35  5.703060e+17            NaN  Eastern Time (US & Canada)  \n",
       "1  2/24/15 11:15  5.703010e+17            NaN  Pacific Time (US & Canada)  \n",
       "2  2/24/15 11:15  5.703010e+17      Lets Play  Central Time (US & Canada)  "
      ]
     },
     "execution_count": 65,
     "metadata": {},
     "output_type": "execute_result"
    }
   ],
   "source": [
    "df_airline.head(3)"
   ]
  },
  {
   "cell_type": "code",
   "execution_count": 66,
   "metadata": {},
   "outputs": [
    {
     "data": {
      "text/plain": [
       "Index(['_unit_id', '_golden', '_unit_state', '_trusted_judgments',\n",
       "       '_last_judgment_at', 'airline_sentiment',\n",
       "       'airline_sentiment:confidence', 'negativereason',\n",
       "       'negativereason:confidence', 'airline', 'airline_sentiment_gold',\n",
       "       'name', 'negativereason_gold', 'retweet_count', 'text', 'tweet_coord',\n",
       "       'tweet_created', 'tweet_id', 'tweet_location', 'user_timezone'],\n",
       "      dtype='object')"
      ]
     },
     "execution_count": 66,
     "metadata": {},
     "output_type": "execute_result"
    }
   ],
   "source": [
    "df_airline.columns"
   ]
  },
  {
   "cell_type": "code",
   "execution_count": 67,
   "metadata": {},
   "outputs": [],
   "source": [
    "df_airline.drop(columns=['_unit_id', '_golden', '_unit_state', '_trusted_judgments',\n",
    "       '_last_judgment_at',\n",
    "       'airline_sentiment:confidence', 'negativereason',\n",
    "       'negativereason:confidence', 'airline', 'airline_sentiment_gold',\n",
    "       'name', 'negativereason_gold', 'retweet_count', 'text',\n",
    "       'tweet_created', 'tweet_id', 'tweet_location', 'user_timezone'], inplace=True)"
   ]
  },
  {
   "cell_type": "markdown",
   "metadata": {},
   "source": [
    "## `CleanDataTask`"
   ]
  },
  {
   "cell_type": "code",
   "execution_count": 68,
   "metadata": {},
   "outputs": [],
   "source": [
    "# Cleaning the airline dataframe\n",
    "\n",
    "# Removing rows cantaining NAN\n",
    "df_airline.dropna(inplace=True)\n",
    "# df_airline.reset_index(drop=True, inplace= True)\n",
    "\n",
    "# Removing rows containing '0.0, 0.0'\n",
    "df_airline['tweet_coord'] = df_airline['tweet_coord'].astype(str)\n",
    "df_airline.drop(df_airline[df_airline.tweet_coord == '[0.0, 0.0]'].index, inplace=True)\n",
    "df_airline.reset_index(drop=True, inplace= True)\n"
   ]
  },
  {
   "cell_type": "code",
   "execution_count": 69,
   "metadata": {},
   "outputs": [
    {
     "data": {
      "text/html": [
       "<div>\n",
       "<style scoped>\n",
       "    .dataframe tbody tr th:only-of-type {\n",
       "        vertical-align: middle;\n",
       "    }\n",
       "\n",
       "    .dataframe tbody tr th {\n",
       "        vertical-align: top;\n",
       "    }\n",
       "\n",
       "    .dataframe thead th {\n",
       "        text-align: right;\n",
       "    }\n",
       "</style>\n",
       "<table border=\"1\" class=\"dataframe\">\n",
       "  <thead>\n",
       "    <tr style=\"text-align: right;\">\n",
       "      <th></th>\n",
       "      <th>airline_sentiment</th>\n",
       "      <th>tweet_coord</th>\n",
       "    </tr>\n",
       "  </thead>\n",
       "  <tbody>\n",
       "    <tr>\n",
       "      <th>count</th>\n",
       "      <td>855</td>\n",
       "      <td>855</td>\n",
       "    </tr>\n",
       "    <tr>\n",
       "      <th>unique</th>\n",
       "      <td>3</td>\n",
       "      <td>831</td>\n",
       "    </tr>\n",
       "    <tr>\n",
       "      <th>top</th>\n",
       "      <td>negative</td>\n",
       "      <td>[40.64656067, -73.78334045]</td>\n",
       "    </tr>\n",
       "    <tr>\n",
       "      <th>freq</th>\n",
       "      <td>573</td>\n",
       "      <td>6</td>\n",
       "    </tr>\n",
       "  </tbody>\n",
       "</table>\n",
       "</div>"
      ],
      "text/plain": [
       "       airline_sentiment                  tweet_coord\n",
       "count                855                          855\n",
       "unique                 3                          831\n",
       "top             negative  [40.64656067, -73.78334045]\n",
       "freq                 573                            6"
      ]
     },
     "execution_count": 69,
     "metadata": {},
     "output_type": "execute_result"
    }
   ],
   "source": [
    "df_airline.describe()"
   ]
  },
  {
   "cell_type": "code",
   "execution_count": 70,
   "metadata": {},
   "outputs": [
    {
     "data": {
      "text/plain": [
       "airline_sentiment    object\n",
       "tweet_coord          object\n",
       "dtype: object"
      ]
     },
     "execution_count": 70,
     "metadata": {},
     "output_type": "execute_result"
    }
   ],
   "source": [
    "df_airline.dtypes"
   ]
  },
  {
   "cell_type": "code",
   "execution_count": 72,
   "metadata": {},
   "outputs": [],
   "source": [
    "\n",
    "\n",
    "# df_airline = pd.concat([df_airline,pd.get_dummies(df_airline['nearest_city'], prefix='nearest_city',drop_first=True)],axis=1)\n",
    "\n",
    "# # now drop the original 'country' column (you don't need it anymore)\n",
    "# df_airline.drop(['nearest_city'],axis=1, inplace=True)"
   ]
  },
  {
   "cell_type": "markdown",
   "metadata": {},
   "source": [
    "## `TrainingDataTask`"
   ]
  },
  {
   "cell_type": "code",
   "execution_count": 73,
   "metadata": {},
   "outputs": [],
   "source": [
    "# Converting list as string to list\n",
    "import ast\n",
    "df_airline['tweet_coord'] = df_airline['tweet_coord'].apply(lambda x: ast.literal_eval(x))"
   ]
  },
  {
   "cell_type": "code",
   "execution_count": 74,
   "metadata": {},
   "outputs": [],
   "source": [
    "df_cities.drop(columns=['geonameid', 'asciiname', 'alternatenames',\n",
    "                        'feature class', 'feature code', 'country code', 'cc2',\n",
    "                        'admin1 code', 'admin2 code', 'admin3 code', 'admin4 code',\n",
    "                        'population', 'elevation', 'dem', 'timezone', 'modification date'], inplace= True)"
   ]
  },
  {
   "cell_type": "code",
   "execution_count": 75,
   "metadata": {},
   "outputs": [
    {
     "data": {
      "text/plain": [
       "Index(['name', 'latitude', 'longitude'], dtype='object')"
      ]
     },
     "execution_count": 75,
     "metadata": {},
     "output_type": "execute_result"
    }
   ],
   "source": [
    "df_cities.columns"
   ]
  },
  {
   "cell_type": "code",
   "execution_count": 76,
   "metadata": {},
   "outputs": [],
   "source": [
    "# combining the both the columns of the dataframe\n",
    "df_cities['latlong'] = df_cities.apply(lambda x: list([x['latitude'],\n",
    "                                        x['longitude']]),axis=1)"
   ]
  },
  {
   "cell_type": "code",
   "execution_count": 77,
   "metadata": {},
   "outputs": [],
   "source": [
    "# Nearest city logic\n",
    "import scipy\n",
    "import numpy as np\n",
    "s1 = np.array(list(df_cities['latlong']))\n",
    "s2 = np.array(list(df_airline['tweet_coord']))\n",
    "\n",
    "kdtree = scipy.spatial.KDTree(s1)\n",
    "neighbours = kdtree.query(s2,k=1)\n",
    "\n",
    "nearest_city = []\n",
    "for i in range(len(neighbours[1])):\n",
    "    nearest_city.append(df_cities['name'][i])\n",
    "    \n",
    "df_airline['nearest_city'] = nearest_city"
   ]
  },
  {
   "cell_type": "code",
   "execution_count": 78,
   "metadata": {},
   "outputs": [
    {
     "data": {
      "text/plain": [
       "Index(['airline_sentiment', 'tweet_coord', 'nearest_city'], dtype='object')"
      ]
     },
     "execution_count": 78,
     "metadata": {},
     "output_type": "execute_result"
    }
   ],
   "source": [
    "df_airline.columns"
   ]
  },
  {
   "cell_type": "code",
   "execution_count": 79,
   "metadata": {},
   "outputs": [
    {
     "data": {
      "text/plain": [
       "849"
      ]
     },
     "execution_count": 79,
     "metadata": {},
     "output_type": "execute_result"
    }
   ],
   "source": [
    "len(set(df_airline['nearest_city']))"
   ]
  },
  {
   "cell_type": "code",
   "execution_count": 80,
   "metadata": {},
   "outputs": [
    {
     "data": {
      "text/plain": [
       "Index(['airline_sentiment', 'tweet_coord', 'nearest_city'], dtype='object')"
      ]
     },
     "execution_count": 80,
     "metadata": {},
     "output_type": "execute_result"
    }
   ],
   "source": [
    "df_airline.columns"
   ]
  },
  {
   "cell_type": "code",
   "execution_count": 92,
   "metadata": {},
   "outputs": [
    {
     "name": "stdout",
     "output_type": "stream",
     "text": [
      "airline_sentiment\n",
      "negative     28\n",
      "neutral     132\n",
      "positive    109\n",
      "dtype: int64\n",
      "airline_sentiment\n",
      "negative      6\n",
      "neutral     132\n",
      "positive     93\n",
      "dtype: int64\n"
     ]
    }
   ],
   "source": [
    "print(df_airline.groupby(['airline_sentiment']).size())\n",
    "df_airline = df_airline.drop(df_airline[df_airline['airline_sentiment'] == 'negative'].sample(frac=.78).index)\n",
    "df_airline = df_airline.drop(df_airline[df_airline['airline_sentiment'] == 'positive'].sample(frac=.15).index)\n",
    "print(df_airline.groupby(['airline_sentiment']).size())\n",
    "df_airline.reset_index(drop=True, inplace= True)"
   ]
  },
  {
   "cell_type": "code",
   "execution_count": 98,
   "metadata": {},
   "outputs": [],
   "source": [
    "# To view the full screen\n",
    "pd.options.display.max_rows = 10000 \n",
    "\n",
    "from sklearn import preprocessing\n",
    "le = preprocessing.LabelEncoder()\n",
    "\n",
    "y = le.fit_transform(df_airline['airline_sentiment'])\n",
    "\n",
    "\n",
    "# print(list(le.inverse_transform([2, 2, 1])))"
   ]
  },
  {
   "cell_type": "code",
   "execution_count": 99,
   "metadata": {},
   "outputs": [],
   "source": [
    "# One hot encoding \n",
    "\n",
    "X = pd.get_dummies(df_airline[\"nearest_city\"],prefix='nearest_city',drop_first=True)\n",
    "\n",
    "df = pd.concat([df_airline,pd.get_dummies(df_airline['nearest_city'], prefix='nearest_city',drop_first=True)],axis=1)\n"
   ]
  },
  {
   "cell_type": "code",
   "execution_count": 100,
   "metadata": {},
   "outputs": [
    {
     "data": {
      "text/plain": [
       "Index(['airline_sentiment', 'tweet_coord', 'nearest_city',\n",
       "       'nearest_city_Abu Dhabi', 'nearest_city_Adh Dhayd',\n",
       "       'nearest_city_Aguilares', 'nearest_city_Al Ain', 'nearest_city_Albany',\n",
       "       'nearest_city_Albardón', 'nearest_city_Albury',\n",
       "       ...\n",
       "       'nearest_city_Wiener Neustadt', 'nearest_city_Willetton',\n",
       "       'nearest_city_Wyndham Vale', 'nearest_city_Yerba Buena',\n",
       "       'nearest_city_Zapala', 'nearest_city_Zaranj', 'nearest_city_Zemst',\n",
       "       'nearest_city_Zonhoven', 'nearest_city_Zottegem',\n",
       "       'nearest_city_Əhmədbəyli'],\n",
       "      dtype='object', length=233)"
      ]
     },
     "execution_count": 100,
     "metadata": {},
     "output_type": "execute_result"
    }
   ],
   "source": [
    "df.columns"
   ]
  },
  {
   "cell_type": "code",
   "execution_count": 101,
   "metadata": {},
   "outputs": [],
   "source": [
    "df = df.drop(columns = ['airline_sentiment', 'tweet_coord', 'nearest_city'])"
   ]
  },
  {
   "cell_type": "code",
   "execution_count": 102,
   "metadata": {},
   "outputs": [
    {
     "data": {
      "text/plain": [
       "GaussianNB()"
      ]
     },
     "execution_count": 102,
     "metadata": {},
     "output_type": "execute_result"
    }
   ],
   "source": [
    "# https://www.datacamp.com/community/tutorials/naive-bayes-scikit-learn\n",
    "#Import Gaussian Naive Bayes model\n",
    "from sklearn.naive_bayes import GaussianNB\n",
    "\n",
    "#Create a Gaussian Classifier\n",
    "model = GaussianNB()\n",
    "\n",
    "# Train the model using the training sets\n",
    "model.fit(X,y)\n",
    "\n",
    "#Predict Output\n",
    "# predicted= model.predict([[0,2]]) # 0:Overcast, 2:Mild\n",
    "# print \"Predicted Value:\", predicted"
   ]
  },
  {
   "cell_type": "code",
   "execution_count": 103,
   "metadata": {},
   "outputs": [
    {
     "data": {
      "text/plain": [
       "array([1, 2, 1, 1, 1, 2, 1, 2, 2, 1, 1, 1, 2, 1, 1, 2, 1, 0, 2, 1, 1, 1,\n",
       "       1, 2, 2, 1, 2, 1, 1, 2, 1, 0, 1, 1, 2, 2, 1, 2, 1, 1, 1, 2, 1, 1,\n",
       "       2, 1, 2, 2, 2, 2, 1, 2, 2, 1, 1, 1, 1, 2, 1, 1, 1, 1, 1, 1, 1, 1,\n",
       "       1, 1, 1, 1, 0, 1, 2, 2, 1, 1, 1, 2, 2, 1, 2, 2, 1, 2, 1, 2, 2, 2,\n",
       "       1, 2, 1, 1, 1, 1, 1, 1, 1, 1, 2, 1, 1, 2, 2, 1, 2, 1, 1, 2, 1, 1,\n",
       "       1, 2, 2, 2, 2, 1, 1, 1, 2, 1, 2, 2, 1, 2, 2, 2, 1, 1, 1, 1, 2, 1,\n",
       "       1, 1, 1, 2, 2, 2, 1, 1, 1, 2, 1, 2, 1, 1, 1, 2, 2, 1, 2, 1, 2, 1,\n",
       "       2, 1, 1, 1, 2, 1, 1, 2, 1, 2, 1, 1, 2, 1, 0, 1, 2, 1, 1, 1, 2, 2,\n",
       "       2, 2, 1, 1, 0, 1, 1, 1, 0, 2, 1, 1, 1, 2, 2, 1, 2, 2, 2, 2, 1, 2,\n",
       "       1, 1, 1, 2, 1, 2, 0, 1, 2, 2, 1, 1, 1, 1, 2, 1, 1, 1, 2, 1, 1, 2,\n",
       "       2, 2, 1, 2, 1, 2, 2, 2, 2, 2, 2])"
      ]
     },
     "execution_count": 103,
     "metadata": {},
     "output_type": "execute_result"
    }
   ],
   "source": [
    "model.predict(X)"
   ]
  },
  {
   "cell_type": "code",
   "execution_count": 104,
   "metadata": {},
   "outputs": [
    {
     "data": {
      "text/plain": [
       "array([[0., 1., 0.],\n",
       "       [0., 0., 1.],\n",
       "       [0., 1., 0.],\n",
       "       [0., 1., 0.],\n",
       "       [0., 1., 0.],\n",
       "       [0., 0., 1.],\n",
       "       [0., 1., 0.],\n",
       "       [0., 0., 1.],\n",
       "       [0., 0., 1.],\n",
       "       [0., 1., 0.],\n",
       "       [0., 1., 0.],\n",
       "       [0., 1., 0.],\n",
       "       [0., 0., 1.],\n",
       "       [0., 1., 0.],\n",
       "       [0., 1., 0.],\n",
       "       [0., 0., 1.],\n",
       "       [0., 1., 0.],\n",
       "       [1., 0., 0.],\n",
       "       [0., 0., 1.],\n",
       "       [0., 1., 0.],\n",
       "       [0., 1., 0.],\n",
       "       [0., 1., 0.],\n",
       "       [0., 1., 0.],\n",
       "       [0., 0., 1.],\n",
       "       [0., 0., 1.],\n",
       "       [0., 1., 0.],\n",
       "       [0., 0., 1.],\n",
       "       [0., 1., 0.],\n",
       "       [0., 1., 0.],\n",
       "       [0., 0., 1.],\n",
       "       [0., 1., 0.],\n",
       "       [1., 0., 0.],\n",
       "       [0., 1., 0.],\n",
       "       [0., 1., 0.],\n",
       "       [0., 0., 1.],\n",
       "       [0., 0., 1.],\n",
       "       [0., 1., 0.],\n",
       "       [0., 0., 1.],\n",
       "       [0., 1., 0.],\n",
       "       [0., 1., 0.],\n",
       "       [0., 1., 0.],\n",
       "       [0., 0., 1.],\n",
       "       [0., 1., 0.],\n",
       "       [0., 1., 0.],\n",
       "       [0., 0., 1.],\n",
       "       [0., 1., 0.],\n",
       "       [0., 0., 1.],\n",
       "       [0., 0., 1.],\n",
       "       [0., 0., 1.],\n",
       "       [0., 0., 1.],\n",
       "       [0., 1., 0.],\n",
       "       [0., 0., 1.],\n",
       "       [0., 0., 1.],\n",
       "       [0., 1., 0.],\n",
       "       [0., 1., 0.],\n",
       "       [0., 1., 0.],\n",
       "       [0., 1., 0.],\n",
       "       [0., 0., 1.],\n",
       "       [0., 1., 0.],\n",
       "       [0., 1., 0.],\n",
       "       [0., 1., 0.],\n",
       "       [0., 1., 0.],\n",
       "       [0., 1., 0.],\n",
       "       [0., 1., 0.],\n",
       "       [0., 1., 0.],\n",
       "       [0., 1., 0.],\n",
       "       [0., 1., 0.],\n",
       "       [0., 1., 0.],\n",
       "       [0., 1., 0.],\n",
       "       [0., 1., 0.],\n",
       "       [1., 0., 0.],\n",
       "       [0., 1., 0.],\n",
       "       [0., 0., 1.],\n",
       "       [0., 0., 1.],\n",
       "       [0., 1., 0.],\n",
       "       [0., 1., 0.],\n",
       "       [0., 1., 0.],\n",
       "       [0., 0., 1.],\n",
       "       [0., 0., 1.],\n",
       "       [0., 1., 0.],\n",
       "       [0., 0., 1.],\n",
       "       [0., 0., 1.],\n",
       "       [0., 1., 0.],\n",
       "       [0., 0., 1.],\n",
       "       [0., 1., 0.],\n",
       "       [0., 0., 1.],\n",
       "       [0., 0., 1.],\n",
       "       [0., 0., 1.],\n",
       "       [0., 1., 0.],\n",
       "       [0., 0., 1.],\n",
       "       [0., 1., 0.],\n",
       "       [0., 1., 0.],\n",
       "       [0., 1., 0.],\n",
       "       [0., 1., 0.],\n",
       "       [0., 1., 0.],\n",
       "       [0., 1., 0.],\n",
       "       [0., 1., 0.],\n",
       "       [0., 1., 0.],\n",
       "       [0., 0., 1.],\n",
       "       [0., 1., 0.],\n",
       "       [0., 1., 0.],\n",
       "       [0., 0., 1.],\n",
       "       [0., 0., 1.],\n",
       "       [0., 1., 0.],\n",
       "       [0., 0., 1.],\n",
       "       [0., 1., 0.],\n",
       "       [0., 1., 0.],\n",
       "       [0., 0., 1.],\n",
       "       [0., 1., 0.],\n",
       "       [0., 1., 0.],\n",
       "       [0., 1., 0.],\n",
       "       [0., 0., 1.],\n",
       "       [0., 0., 1.],\n",
       "       [0., 0., 1.],\n",
       "       [0., 0., 1.],\n",
       "       [0., 1., 0.],\n",
       "       [0., 1., 0.],\n",
       "       [0., 1., 0.],\n",
       "       [0., 0., 1.],\n",
       "       [0., 1., 0.],\n",
       "       [0., 0., 1.],\n",
       "       [0., 0., 1.],\n",
       "       [0., 1., 0.],\n",
       "       [0., 0., 1.],\n",
       "       [0., 0., 1.],\n",
       "       [0., 0., 1.],\n",
       "       [0., 1., 0.],\n",
       "       [0., 1., 0.],\n",
       "       [0., 1., 0.],\n",
       "       [0., 1., 0.],\n",
       "       [0., 0., 1.],\n",
       "       [0., 1., 0.],\n",
       "       [0., 1., 0.],\n",
       "       [0., 1., 0.],\n",
       "       [0., 1., 0.],\n",
       "       [0., 0., 1.],\n",
       "       [0., 0., 1.],\n",
       "       [0., 0., 1.],\n",
       "       [0., 1., 0.],\n",
       "       [0., 1., 0.],\n",
       "       [0., 1., 0.],\n",
       "       [0., 0., 1.],\n",
       "       [0., 1., 0.],\n",
       "       [0., 0., 1.],\n",
       "       [0., 1., 0.],\n",
       "       [0., 1., 0.],\n",
       "       [0., 1., 0.],\n",
       "       [0., 0., 1.],\n",
       "       [0., 0., 1.],\n",
       "       [0., 1., 0.],\n",
       "       [0., 0., 1.],\n",
       "       [0., 1., 0.],\n",
       "       [0., 0., 1.],\n",
       "       [0., 1., 0.],\n",
       "       [0., 0., 1.],\n",
       "       [0., 1., 0.],\n",
       "       [0., 1., 0.],\n",
       "       [0., 1., 0.],\n",
       "       [0., 0., 1.],\n",
       "       [0., 1., 0.],\n",
       "       [0., 1., 0.],\n",
       "       [0., 0., 1.],\n",
       "       [0., 1., 0.],\n",
       "       [0., 0., 1.],\n",
       "       [0., 1., 0.],\n",
       "       [0., 1., 0.],\n",
       "       [0., 0., 1.],\n",
       "       [0., 1., 0.],\n",
       "       [1., 0., 0.],\n",
       "       [0., 1., 0.],\n",
       "       [0., 0., 1.],\n",
       "       [0., 1., 0.],\n",
       "       [0., 1., 0.],\n",
       "       [0., 1., 0.],\n",
       "       [0., 0., 1.],\n",
       "       [0., 0., 1.],\n",
       "       [0., 0., 1.],\n",
       "       [0., 0., 1.],\n",
       "       [0., 1., 0.],\n",
       "       [0., 1., 0.],\n",
       "       [1., 0., 0.],\n",
       "       [0., 1., 0.],\n",
       "       [0., 1., 0.],\n",
       "       [0., 1., 0.],\n",
       "       [1., 0., 0.],\n",
       "       [0., 0., 1.],\n",
       "       [0., 1., 0.],\n",
       "       [0., 1., 0.],\n",
       "       [0., 1., 0.],\n",
       "       [0., 0., 1.],\n",
       "       [0., 0., 1.],\n",
       "       [0., 1., 0.],\n",
       "       [0., 0., 1.],\n",
       "       [0., 0., 1.],\n",
       "       [0., 0., 1.],\n",
       "       [0., 0., 1.],\n",
       "       [0., 1., 0.],\n",
       "       [0., 0., 1.],\n",
       "       [0., 1., 0.],\n",
       "       [0., 1., 0.],\n",
       "       [0., 1., 0.],\n",
       "       [0., 0., 1.],\n",
       "       [0., 1., 0.],\n",
       "       [0., 0., 1.],\n",
       "       [1., 0., 0.],\n",
       "       [0., 1., 0.],\n",
       "       [0., 0., 1.],\n",
       "       [0., 0., 1.],\n",
       "       [0., 1., 0.],\n",
       "       [0., 1., 0.],\n",
       "       [0., 1., 0.],\n",
       "       [0., 1., 0.],\n",
       "       [0., 0., 1.],\n",
       "       [0., 1., 0.],\n",
       "       [0., 1., 0.],\n",
       "       [0., 1., 0.],\n",
       "       [0., 0., 1.],\n",
       "       [0., 1., 0.],\n",
       "       [0., 1., 0.],\n",
       "       [0., 0., 1.],\n",
       "       [0., 0., 1.],\n",
       "       [0., 0., 1.],\n",
       "       [0., 1., 0.],\n",
       "       [0., 0., 1.],\n",
       "       [0., 1., 0.],\n",
       "       [0., 0., 1.],\n",
       "       [0., 0., 1.],\n",
       "       [0., 0., 1.],\n",
       "       [0., 0., 1.],\n",
       "       [0., 0., 1.],\n",
       "       [0., 0., 1.]])"
      ]
     },
     "execution_count": 104,
     "metadata": {},
     "output_type": "execute_result"
    }
   ],
   "source": [
    "model.predict_proba(X)"
   ]
  },
  {
   "cell_type": "code",
   "execution_count": 105,
   "metadata": {},
   "outputs": [
    {
     "data": {
      "text/plain": [
       "0.9956709956709957"
      ]
     },
     "execution_count": 105,
     "metadata": {},
     "output_type": "execute_result"
    }
   ],
   "source": [
    "model.score(X,y)"
   ]
  },
  {
   "cell_type": "code",
   "execution_count": 106,
   "metadata": {},
   "outputs": [
    {
     "data": {
      "text/plain": [
       "LogisticRegression()"
      ]
     },
     "execution_count": 106,
     "metadata": {},
     "output_type": "execute_result"
    }
   ],
   "source": [
    "# example of training a final classification model\n",
    "from sklearn.linear_model import LogisticRegression\n",
    "from sklearn.datasets import make_blobs\n",
    "# generate 2d classification dataset\n",
    "# X, y = make_blobs(n_samples=100,random_state=1)\n",
    "# fit final model\n",
    "model = LogisticRegression()\n",
    "model.fit(X, y)"
   ]
  },
  {
   "cell_type": "code",
   "execution_count": 107,
   "metadata": {},
   "outputs": [
    {
     "data": {
      "text/plain": [
       "array([[0.02326818, 0.70469284, 0.27203899],\n",
       "       [0.02527541, 0.38748869, 0.5872359 ],\n",
       "       [0.02326818, 0.70469284, 0.27203899],\n",
       "       [0.02326818, 0.70469284, 0.27203899],\n",
       "       [0.02326818, 0.70469284, 0.27203899],\n",
       "       [0.02527541, 0.38748869, 0.5872359 ],\n",
       "       [0.02326818, 0.70469284, 0.27203899],\n",
       "       [0.02527541, 0.38748869, 0.5872359 ],\n",
       "       [0.02527541, 0.38748869, 0.5872359 ],\n",
       "       [0.02326818, 0.70469284, 0.27203899],\n",
       "       [0.02326818, 0.70469284, 0.27203899],\n",
       "       [0.02326818, 0.70469284, 0.27203899],\n",
       "       [0.02527541, 0.38748869, 0.5872359 ],\n",
       "       [0.02326818, 0.70469284, 0.27203899],\n",
       "       [0.02326818, 0.70469284, 0.27203899],\n",
       "       [0.02527541, 0.38748869, 0.5872359 ],\n",
       "       [0.02326818, 0.70469284, 0.27203899],\n",
       "       [0.09576695, 0.51172454, 0.39250851],\n",
       "       [0.02527541, 0.38748869, 0.5872359 ],\n",
       "       [0.02326818, 0.70469284, 0.27203899],\n",
       "       [0.02326818, 0.70469284, 0.27203899],\n",
       "       [0.02326818, 0.70469284, 0.27203899],\n",
       "       [0.02326818, 0.70469284, 0.27203899],\n",
       "       [0.02527541, 0.38748869, 0.5872359 ],\n",
       "       [0.02527541, 0.38748869, 0.5872359 ],\n",
       "       [0.02326818, 0.70469284, 0.27203899],\n",
       "       [0.02527541, 0.38748869, 0.5872359 ],\n",
       "       [0.02326818, 0.70469284, 0.27203899],\n",
       "       [0.02326818, 0.70469284, 0.27203899],\n",
       "       [0.02527541, 0.38748869, 0.5872359 ],\n",
       "       [0.02326818, 0.70469284, 0.27203899],\n",
       "       [0.02630121, 0.57930052, 0.39439827],\n",
       "       [0.02326818, 0.70469284, 0.27203899],\n",
       "       [0.02326818, 0.70469284, 0.27203899],\n",
       "       [0.02527541, 0.38748869, 0.5872359 ],\n",
       "       [0.02527541, 0.38748869, 0.5872359 ],\n",
       "       [0.02326818, 0.70469284, 0.27203899],\n",
       "       [0.02527541, 0.38748869, 0.5872359 ],\n",
       "       [0.02326818, 0.70469284, 0.27203899],\n",
       "       [0.02326818, 0.70469284, 0.27203899],\n",
       "       [0.02326818, 0.70469284, 0.27203899],\n",
       "       [0.02527541, 0.38748869, 0.5872359 ],\n",
       "       [0.02326818, 0.70469284, 0.27203899],\n",
       "       [0.02326818, 0.70469284, 0.27203899],\n",
       "       [0.02527541, 0.38748869, 0.5872359 ],\n",
       "       [0.02326818, 0.70469284, 0.27203899],\n",
       "       [0.02527541, 0.38748869, 0.5872359 ],\n",
       "       [0.02527541, 0.38748869, 0.5872359 ],\n",
       "       [0.02527541, 0.38748869, 0.5872359 ],\n",
       "       [0.02527541, 0.38748869, 0.5872359 ],\n",
       "       [0.02326818, 0.70469284, 0.27203899],\n",
       "       [0.02527541, 0.38748869, 0.5872359 ],\n",
       "       [0.02527541, 0.38748869, 0.5872359 ],\n",
       "       [0.02326818, 0.70469284, 0.27203899],\n",
       "       [0.02326818, 0.70469284, 0.27203899],\n",
       "       [0.02326818, 0.70469284, 0.27203899],\n",
       "       [0.02326818, 0.70469284, 0.27203899],\n",
       "       [0.02527541, 0.38748869, 0.5872359 ],\n",
       "       [0.02326818, 0.70469284, 0.27203899],\n",
       "       [0.02326818, 0.70469284, 0.27203899],\n",
       "       [0.02326818, 0.70469284, 0.27203899],\n",
       "       [0.02326818, 0.70469284, 0.27203899],\n",
       "       [0.02326818, 0.70469284, 0.27203899],\n",
       "       [0.02326818, 0.70469284, 0.27203899],\n",
       "       [0.02326818, 0.70469284, 0.27203899],\n",
       "       [0.02326818, 0.70469284, 0.27203899],\n",
       "       [0.02326818, 0.70469284, 0.27203899],\n",
       "       [0.02326818, 0.70469284, 0.27203899],\n",
       "       [0.02326818, 0.70469284, 0.27203899],\n",
       "       [0.02326818, 0.70469284, 0.27203899],\n",
       "       [0.09576695, 0.51172454, 0.39250851],\n",
       "       [0.02326818, 0.70469284, 0.27203899],\n",
       "       [0.02527541, 0.38748869, 0.5872359 ],\n",
       "       [0.02527541, 0.38748869, 0.5872359 ],\n",
       "       [0.02326818, 0.70469284, 0.27203899],\n",
       "       [0.02326818, 0.70469284, 0.27203899],\n",
       "       [0.02326818, 0.70469284, 0.27203899],\n",
       "       [0.02527541, 0.38748869, 0.5872359 ],\n",
       "       [0.02527541, 0.38748869, 0.5872359 ],\n",
       "       [0.02326818, 0.70469284, 0.27203899],\n",
       "       [0.02527541, 0.38748869, 0.5872359 ],\n",
       "       [0.02527541, 0.38748869, 0.5872359 ],\n",
       "       [0.02326818, 0.70469284, 0.27203899],\n",
       "       [0.02527541, 0.38748869, 0.5872359 ],\n",
       "       [0.02326818, 0.70469284, 0.27203899],\n",
       "       [0.02527541, 0.38748869, 0.5872359 ],\n",
       "       [0.02527541, 0.38748869, 0.5872359 ],\n",
       "       [0.02527541, 0.38748869, 0.5872359 ],\n",
       "       [0.02326818, 0.70469284, 0.27203899],\n",
       "       [0.02527541, 0.38748869, 0.5872359 ],\n",
       "       [0.02326818, 0.70469284, 0.27203899],\n",
       "       [0.02326818, 0.70469284, 0.27203899],\n",
       "       [0.02326818, 0.70469284, 0.27203899],\n",
       "       [0.02326818, 0.70469284, 0.27203899],\n",
       "       [0.02326818, 0.70469284, 0.27203899],\n",
       "       [0.02326818, 0.70469284, 0.27203899],\n",
       "       [0.02326818, 0.70469284, 0.27203899],\n",
       "       [0.02326818, 0.70469284, 0.27203899],\n",
       "       [0.02527541, 0.38748869, 0.5872359 ],\n",
       "       [0.02326818, 0.70469284, 0.27203899],\n",
       "       [0.02326818, 0.70469284, 0.27203899],\n",
       "       [0.02527541, 0.38748869, 0.5872359 ],\n",
       "       [0.02527541, 0.38748869, 0.5872359 ],\n",
       "       [0.02326818, 0.70469284, 0.27203899],\n",
       "       [0.02527541, 0.38748869, 0.5872359 ],\n",
       "       [0.02326818, 0.70469284, 0.27203899],\n",
       "       [0.02326818, 0.70469284, 0.27203899],\n",
       "       [0.02527541, 0.38748869, 0.5872359 ],\n",
       "       [0.02326818, 0.70469284, 0.27203899],\n",
       "       [0.02326818, 0.70469284, 0.27203899],\n",
       "       [0.02326818, 0.70469284, 0.27203899],\n",
       "       [0.02527541, 0.38748869, 0.5872359 ],\n",
       "       [0.02527541, 0.38748869, 0.5872359 ],\n",
       "       [0.02527541, 0.38748869, 0.5872359 ],\n",
       "       [0.02527541, 0.38748869, 0.5872359 ],\n",
       "       [0.02326818, 0.70469284, 0.27203899],\n",
       "       [0.02326818, 0.70469284, 0.27203899],\n",
       "       [0.02326818, 0.70469284, 0.27203899],\n",
       "       [0.02527541, 0.38748869, 0.5872359 ],\n",
       "       [0.02326818, 0.70469284, 0.27203899],\n",
       "       [0.02527541, 0.38748869, 0.5872359 ],\n",
       "       [0.02527541, 0.38748869, 0.5872359 ],\n",
       "       [0.02326818, 0.70469284, 0.27203899],\n",
       "       [0.02527541, 0.38748869, 0.5872359 ],\n",
       "       [0.02527541, 0.38748869, 0.5872359 ],\n",
       "       [0.02527541, 0.38748869, 0.5872359 ],\n",
       "       [0.02326818, 0.70469284, 0.27203899],\n",
       "       [0.02326818, 0.70469284, 0.27203899],\n",
       "       [0.02326818, 0.70469284, 0.27203899],\n",
       "       [0.02326818, 0.70469284, 0.27203899],\n",
       "       [0.02527541, 0.38748869, 0.5872359 ],\n",
       "       [0.02326818, 0.70469284, 0.27203899],\n",
       "       [0.02326818, 0.70469284, 0.27203899],\n",
       "       [0.02326818, 0.70469284, 0.27203899],\n",
       "       [0.02326818, 0.70469284, 0.27203899],\n",
       "       [0.02527541, 0.38748869, 0.5872359 ],\n",
       "       [0.02527541, 0.38748869, 0.5872359 ],\n",
       "       [0.02527541, 0.38748869, 0.5872359 ],\n",
       "       [0.02326818, 0.70469284, 0.27203899],\n",
       "       [0.02326818, 0.70469284, 0.27203899],\n",
       "       [0.02326818, 0.70469284, 0.27203899],\n",
       "       [0.02527541, 0.38748869, 0.5872359 ],\n",
       "       [0.02326818, 0.70469284, 0.27203899],\n",
       "       [0.02527541, 0.38748869, 0.5872359 ],\n",
       "       [0.02326818, 0.70469284, 0.27203899],\n",
       "       [0.02326818, 0.70469284, 0.27203899],\n",
       "       [0.02326818, 0.70469284, 0.27203899],\n",
       "       [0.02527541, 0.38748869, 0.5872359 ],\n",
       "       [0.02527541, 0.38748869, 0.5872359 ],\n",
       "       [0.02326818, 0.70469284, 0.27203899],\n",
       "       [0.02527541, 0.38748869, 0.5872359 ],\n",
       "       [0.02326818, 0.70469284, 0.27203899],\n",
       "       [0.02527541, 0.38748869, 0.5872359 ],\n",
       "       [0.02326818, 0.70469284, 0.27203899],\n",
       "       [0.02527541, 0.38748869, 0.5872359 ],\n",
       "       [0.02326818, 0.70469284, 0.27203899],\n",
       "       [0.02326818, 0.70469284, 0.27203899],\n",
       "       [0.02326818, 0.70469284, 0.27203899],\n",
       "       [0.02527541, 0.38748869, 0.5872359 ],\n",
       "       [0.02326818, 0.70469284, 0.27203899],\n",
       "       [0.02326818, 0.70469284, 0.27203899],\n",
       "       [0.02527541, 0.38748869, 0.5872359 ],\n",
       "       [0.02326818, 0.70469284, 0.27203899],\n",
       "       [0.02527541, 0.38748869, 0.5872359 ],\n",
       "       [0.02326818, 0.70469284, 0.27203899],\n",
       "       [0.02326818, 0.70469284, 0.27203899],\n",
       "       [0.02527541, 0.38748869, 0.5872359 ],\n",
       "       [0.02326818, 0.70469284, 0.27203899],\n",
       "       [0.09576695, 0.51172454, 0.39250851],\n",
       "       [0.02326818, 0.70469284, 0.27203899],\n",
       "       [0.02527541, 0.38748869, 0.5872359 ],\n",
       "       [0.02326818, 0.70469284, 0.27203899],\n",
       "       [0.02326818, 0.70469284, 0.27203899],\n",
       "       [0.02326818, 0.70469284, 0.27203899],\n",
       "       [0.02527541, 0.38748869, 0.5872359 ],\n",
       "       [0.02527541, 0.38748869, 0.5872359 ],\n",
       "       [0.02527541, 0.38748869, 0.5872359 ],\n",
       "       [0.02527541, 0.38748869, 0.5872359 ],\n",
       "       [0.02326818, 0.70469284, 0.27203899],\n",
       "       [0.02326818, 0.70469284, 0.27203899],\n",
       "       [0.09576695, 0.51172454, 0.39250851],\n",
       "       [0.02326818, 0.70469284, 0.27203899],\n",
       "       [0.02326818, 0.70469284, 0.27203899],\n",
       "       [0.02326818, 0.70469284, 0.27203899],\n",
       "       [0.09576695, 0.51172454, 0.39250851],\n",
       "       [0.02527541, 0.38748869, 0.5872359 ],\n",
       "       [0.02326818, 0.70469284, 0.27203899],\n",
       "       [0.02326818, 0.70469284, 0.27203899],\n",
       "       [0.02326818, 0.70469284, 0.27203899],\n",
       "       [0.02527541, 0.38748869, 0.5872359 ],\n",
       "       [0.02527541, 0.38748869, 0.5872359 ],\n",
       "       [0.02326818, 0.70469284, 0.27203899],\n",
       "       [0.02527541, 0.38748869, 0.5872359 ],\n",
       "       [0.02527541, 0.38748869, 0.5872359 ],\n",
       "       [0.02527541, 0.38748869, 0.5872359 ],\n",
       "       [0.02527541, 0.38748869, 0.5872359 ],\n",
       "       [0.02326818, 0.70469284, 0.27203899],\n",
       "       [0.02527541, 0.38748869, 0.5872359 ],\n",
       "       [0.02326818, 0.70469284, 0.27203899],\n",
       "       [0.02326818, 0.70469284, 0.27203899],\n",
       "       [0.02326818, 0.70469284, 0.27203899],\n",
       "       [0.02527541, 0.38748869, 0.5872359 ],\n",
       "       [0.02326818, 0.70469284, 0.27203899],\n",
       "       [0.02527541, 0.38748869, 0.5872359 ],\n",
       "       [0.09576695, 0.51172454, 0.39250851],\n",
       "       [0.02326818, 0.70469284, 0.27203899],\n",
       "       [0.02527541, 0.38748869, 0.5872359 ],\n",
       "       [0.02527541, 0.38748869, 0.5872359 ],\n",
       "       [0.02326818, 0.70469284, 0.27203899],\n",
       "       [0.02326818, 0.70469284, 0.27203899],\n",
       "       [0.02326818, 0.70469284, 0.27203899],\n",
       "       [0.02326818, 0.70469284, 0.27203899],\n",
       "       [0.02527541, 0.38748869, 0.5872359 ],\n",
       "       [0.02326818, 0.70469284, 0.27203899],\n",
       "       [0.02326818, 0.70469284, 0.27203899],\n",
       "       [0.02326818, 0.70469284, 0.27203899],\n",
       "       [0.02527541, 0.38748869, 0.5872359 ],\n",
       "       [0.02326818, 0.70469284, 0.27203899],\n",
       "       [0.02326818, 0.70469284, 0.27203899],\n",
       "       [0.02527541, 0.38748869, 0.5872359 ],\n",
       "       [0.02527541, 0.38748869, 0.5872359 ],\n",
       "       [0.02527541, 0.38748869, 0.5872359 ],\n",
       "       [0.02326818, 0.70469284, 0.27203899],\n",
       "       [0.02527541, 0.38748869, 0.5872359 ],\n",
       "       [0.02326818, 0.70469284, 0.27203899],\n",
       "       [0.02527541, 0.38748869, 0.5872359 ],\n",
       "       [0.02527541, 0.38748869, 0.5872359 ],\n",
       "       [0.02527541, 0.38748869, 0.5872359 ],\n",
       "       [0.02527541, 0.38748869, 0.5872359 ],\n",
       "       [0.02527541, 0.38748869, 0.5872359 ],\n",
       "       [0.02527541, 0.38748869, 0.5872359 ]])"
      ]
     },
     "execution_count": 107,
     "metadata": {},
     "output_type": "execute_result"
    }
   ],
   "source": [
    "model.predict_proba(X)"
   ]
  },
  {
   "cell_type": "code",
   "execution_count": 108,
   "metadata": {},
   "outputs": [
    {
     "name": "stdout",
     "output_type": "stream",
     "text": [
      "['neutral', 'positive', 'neutral', 'neutral', 'neutral', 'positive', 'neutral', 'positive', 'positive', 'neutral', 'neutral', 'neutral', 'positive', 'neutral', 'neutral', 'positive', 'neutral', 'neutral', 'positive', 'neutral', 'neutral', 'neutral', 'neutral', 'positive', 'positive', 'neutral', 'positive', 'neutral', 'neutral', 'positive', 'neutral', 'neutral', 'neutral', 'neutral', 'positive', 'positive', 'neutral', 'positive', 'neutral', 'neutral', 'neutral', 'positive', 'neutral', 'neutral', 'positive', 'neutral', 'positive', 'positive', 'positive', 'positive', 'neutral', 'positive', 'positive', 'neutral', 'neutral', 'neutral', 'neutral', 'positive', 'neutral', 'neutral', 'neutral', 'neutral', 'neutral', 'neutral', 'neutral', 'neutral', 'neutral', 'neutral', 'neutral', 'neutral', 'neutral', 'neutral', 'positive', 'positive', 'neutral', 'neutral', 'neutral', 'positive', 'positive', 'neutral', 'positive', 'positive', 'neutral', 'positive', 'neutral', 'positive', 'positive', 'positive', 'neutral', 'positive', 'neutral', 'neutral', 'neutral', 'neutral', 'neutral', 'neutral', 'neutral', 'neutral', 'positive', 'neutral', 'neutral', 'positive', 'positive', 'neutral', 'positive', 'neutral', 'neutral', 'positive', 'neutral', 'neutral', 'neutral', 'positive', 'positive', 'positive', 'positive', 'neutral', 'neutral', 'neutral', 'positive', 'neutral', 'positive', 'positive', 'neutral', 'positive', 'positive', 'positive', 'neutral', 'neutral', 'neutral', 'neutral', 'positive', 'neutral', 'neutral', 'neutral', 'neutral', 'positive', 'positive', 'positive', 'neutral', 'neutral', 'neutral', 'positive', 'neutral', 'positive', 'neutral', 'neutral', 'neutral', 'positive', 'positive', 'neutral', 'positive', 'neutral', 'positive', 'neutral', 'positive', 'neutral', 'neutral', 'neutral', 'positive', 'neutral', 'neutral', 'positive', 'neutral', 'positive', 'neutral', 'neutral', 'positive', 'neutral', 'neutral', 'neutral', 'positive', 'neutral', 'neutral', 'neutral', 'positive', 'positive', 'positive', 'positive', 'neutral', 'neutral', 'neutral', 'neutral', 'neutral', 'neutral', 'neutral', 'positive', 'neutral', 'neutral', 'neutral', 'positive', 'positive', 'neutral', 'positive', 'positive', 'positive', 'positive', 'neutral', 'positive', 'neutral', 'neutral', 'neutral', 'positive', 'neutral', 'positive', 'neutral', 'neutral', 'positive', 'positive', 'neutral', 'neutral', 'neutral', 'neutral', 'positive', 'neutral', 'neutral', 'neutral', 'positive', 'neutral', 'neutral', 'positive', 'positive', 'positive', 'neutral', 'positive', 'neutral', 'positive', 'positive', 'positive', 'positive', 'positive', 'positive']\n"
     ]
    }
   ],
   "source": [
    "print(list(le.inverse_transform(model.predict(X))))"
   ]
  },
  {
   "cell_type": "code",
   "execution_count": 109,
   "metadata": {},
   "outputs": [
    {
     "data": {
      "text/plain": [
       "0.974025974025974"
      ]
     },
     "execution_count": 109,
     "metadata": {},
     "output_type": "execute_result"
    }
   ],
   "source": [
    "model.score(X,y)"
   ]
  },
  {
   "cell_type": "code",
   "execution_count": 110,
   "metadata": {},
   "outputs": [
    {
     "data": {
      "text/plain": [
       "SVR()"
      ]
     },
     "execution_count": 110,
     "metadata": {},
     "output_type": "execute_result"
    }
   ],
   "source": [
    "from sklearn import svm\n",
    "\n",
    "regr = svm.SVR()\n",
    "regr.fit(X, y)"
   ]
  },
  {
   "cell_type": "code",
   "execution_count": 111,
   "metadata": {},
   "outputs": [
    {
     "data": {
      "text/plain": [
       "array([1, 2, 1, 1, 1, 2, 1, 2, 2, 1, 1, 1, 2, 1, 1, 2, 1, 1, 2, 1, 1, 1,\n",
       "       1, 2, 2, 1, 2, 1, 1, 2, 1, 1, 1, 1, 2, 2, 1, 2, 1, 1, 1, 2, 1, 1,\n",
       "       2, 1, 2, 2, 2, 2, 1, 2, 2, 1, 1, 1, 1, 2, 1, 1, 1, 1, 1, 1, 1, 1,\n",
       "       1, 1, 1, 1, 1, 1, 2, 2, 1, 1, 1, 2, 2, 1, 2, 2, 1, 2, 1, 2, 2, 2,\n",
       "       1, 2, 1, 1, 1, 1, 1, 1, 1, 1, 2, 1, 1, 2, 2, 1, 2, 1, 1, 2, 1, 1,\n",
       "       1, 2, 2, 2, 2, 1, 1, 1, 2, 1, 2, 2, 1, 2, 2, 2, 1, 1, 1, 1, 2, 1,\n",
       "       1, 1, 1, 2, 2, 2, 1, 1, 1, 2, 1, 2, 1, 1, 1, 2, 2, 1, 2, 1, 2, 1,\n",
       "       2, 1, 1, 1, 2, 1, 1, 2, 1, 2, 1, 1, 2, 1, 1, 1, 2, 1, 1, 1, 2, 2,\n",
       "       2, 2, 1, 1, 1, 1, 1, 1, 1, 2, 1, 1, 1, 2, 2, 1, 2, 2, 2, 2, 1, 2,\n",
       "       1, 1, 1, 2, 1, 2, 1, 1, 2, 2, 1, 1, 1, 1, 2, 1, 1, 1, 2, 1, 1, 2,\n",
       "       2, 2, 1, 2, 1, 2, 2, 2, 2, 2, 2])"
      ]
     },
     "execution_count": 111,
     "metadata": {},
     "output_type": "execute_result"
    }
   ],
   "source": [
    "model.predict(X)"
   ]
  },
  {
   "cell_type": "code",
   "execution_count": 112,
   "metadata": {},
   "outputs": [
    {
     "data": {
      "text/plain": [
       "array([[0.02326818, 0.70469284, 0.27203899],\n",
       "       [0.02527541, 0.38748869, 0.5872359 ],\n",
       "       [0.02326818, 0.70469284, 0.27203899],\n",
       "       [0.02326818, 0.70469284, 0.27203899],\n",
       "       [0.02326818, 0.70469284, 0.27203899],\n",
       "       [0.02527541, 0.38748869, 0.5872359 ],\n",
       "       [0.02326818, 0.70469284, 0.27203899],\n",
       "       [0.02527541, 0.38748869, 0.5872359 ],\n",
       "       [0.02527541, 0.38748869, 0.5872359 ],\n",
       "       [0.02326818, 0.70469284, 0.27203899],\n",
       "       [0.02326818, 0.70469284, 0.27203899],\n",
       "       [0.02326818, 0.70469284, 0.27203899],\n",
       "       [0.02527541, 0.38748869, 0.5872359 ],\n",
       "       [0.02326818, 0.70469284, 0.27203899],\n",
       "       [0.02326818, 0.70469284, 0.27203899],\n",
       "       [0.02527541, 0.38748869, 0.5872359 ],\n",
       "       [0.02326818, 0.70469284, 0.27203899],\n",
       "       [0.09576695, 0.51172454, 0.39250851],\n",
       "       [0.02527541, 0.38748869, 0.5872359 ],\n",
       "       [0.02326818, 0.70469284, 0.27203899],\n",
       "       [0.02326818, 0.70469284, 0.27203899],\n",
       "       [0.02326818, 0.70469284, 0.27203899],\n",
       "       [0.02326818, 0.70469284, 0.27203899],\n",
       "       [0.02527541, 0.38748869, 0.5872359 ],\n",
       "       [0.02527541, 0.38748869, 0.5872359 ],\n",
       "       [0.02326818, 0.70469284, 0.27203899],\n",
       "       [0.02527541, 0.38748869, 0.5872359 ],\n",
       "       [0.02326818, 0.70469284, 0.27203899],\n",
       "       [0.02326818, 0.70469284, 0.27203899],\n",
       "       [0.02527541, 0.38748869, 0.5872359 ],\n",
       "       [0.02326818, 0.70469284, 0.27203899],\n",
       "       [0.02630121, 0.57930052, 0.39439827],\n",
       "       [0.02326818, 0.70469284, 0.27203899],\n",
       "       [0.02326818, 0.70469284, 0.27203899],\n",
       "       [0.02527541, 0.38748869, 0.5872359 ],\n",
       "       [0.02527541, 0.38748869, 0.5872359 ],\n",
       "       [0.02326818, 0.70469284, 0.27203899],\n",
       "       [0.02527541, 0.38748869, 0.5872359 ],\n",
       "       [0.02326818, 0.70469284, 0.27203899],\n",
       "       [0.02326818, 0.70469284, 0.27203899],\n",
       "       [0.02326818, 0.70469284, 0.27203899],\n",
       "       [0.02527541, 0.38748869, 0.5872359 ],\n",
       "       [0.02326818, 0.70469284, 0.27203899],\n",
       "       [0.02326818, 0.70469284, 0.27203899],\n",
       "       [0.02527541, 0.38748869, 0.5872359 ],\n",
       "       [0.02326818, 0.70469284, 0.27203899],\n",
       "       [0.02527541, 0.38748869, 0.5872359 ],\n",
       "       [0.02527541, 0.38748869, 0.5872359 ],\n",
       "       [0.02527541, 0.38748869, 0.5872359 ],\n",
       "       [0.02527541, 0.38748869, 0.5872359 ],\n",
       "       [0.02326818, 0.70469284, 0.27203899],\n",
       "       [0.02527541, 0.38748869, 0.5872359 ],\n",
       "       [0.02527541, 0.38748869, 0.5872359 ],\n",
       "       [0.02326818, 0.70469284, 0.27203899],\n",
       "       [0.02326818, 0.70469284, 0.27203899],\n",
       "       [0.02326818, 0.70469284, 0.27203899],\n",
       "       [0.02326818, 0.70469284, 0.27203899],\n",
       "       [0.02527541, 0.38748869, 0.5872359 ],\n",
       "       [0.02326818, 0.70469284, 0.27203899],\n",
       "       [0.02326818, 0.70469284, 0.27203899],\n",
       "       [0.02326818, 0.70469284, 0.27203899],\n",
       "       [0.02326818, 0.70469284, 0.27203899],\n",
       "       [0.02326818, 0.70469284, 0.27203899],\n",
       "       [0.02326818, 0.70469284, 0.27203899],\n",
       "       [0.02326818, 0.70469284, 0.27203899],\n",
       "       [0.02326818, 0.70469284, 0.27203899],\n",
       "       [0.02326818, 0.70469284, 0.27203899],\n",
       "       [0.02326818, 0.70469284, 0.27203899],\n",
       "       [0.02326818, 0.70469284, 0.27203899],\n",
       "       [0.02326818, 0.70469284, 0.27203899],\n",
       "       [0.09576695, 0.51172454, 0.39250851],\n",
       "       [0.02326818, 0.70469284, 0.27203899],\n",
       "       [0.02527541, 0.38748869, 0.5872359 ],\n",
       "       [0.02527541, 0.38748869, 0.5872359 ],\n",
       "       [0.02326818, 0.70469284, 0.27203899],\n",
       "       [0.02326818, 0.70469284, 0.27203899],\n",
       "       [0.02326818, 0.70469284, 0.27203899],\n",
       "       [0.02527541, 0.38748869, 0.5872359 ],\n",
       "       [0.02527541, 0.38748869, 0.5872359 ],\n",
       "       [0.02326818, 0.70469284, 0.27203899],\n",
       "       [0.02527541, 0.38748869, 0.5872359 ],\n",
       "       [0.02527541, 0.38748869, 0.5872359 ],\n",
       "       [0.02326818, 0.70469284, 0.27203899],\n",
       "       [0.02527541, 0.38748869, 0.5872359 ],\n",
       "       [0.02326818, 0.70469284, 0.27203899],\n",
       "       [0.02527541, 0.38748869, 0.5872359 ],\n",
       "       [0.02527541, 0.38748869, 0.5872359 ],\n",
       "       [0.02527541, 0.38748869, 0.5872359 ],\n",
       "       [0.02326818, 0.70469284, 0.27203899],\n",
       "       [0.02527541, 0.38748869, 0.5872359 ],\n",
       "       [0.02326818, 0.70469284, 0.27203899],\n",
       "       [0.02326818, 0.70469284, 0.27203899],\n",
       "       [0.02326818, 0.70469284, 0.27203899],\n",
       "       [0.02326818, 0.70469284, 0.27203899],\n",
       "       [0.02326818, 0.70469284, 0.27203899],\n",
       "       [0.02326818, 0.70469284, 0.27203899],\n",
       "       [0.02326818, 0.70469284, 0.27203899],\n",
       "       [0.02326818, 0.70469284, 0.27203899],\n",
       "       [0.02527541, 0.38748869, 0.5872359 ],\n",
       "       [0.02326818, 0.70469284, 0.27203899],\n",
       "       [0.02326818, 0.70469284, 0.27203899],\n",
       "       [0.02527541, 0.38748869, 0.5872359 ],\n",
       "       [0.02527541, 0.38748869, 0.5872359 ],\n",
       "       [0.02326818, 0.70469284, 0.27203899],\n",
       "       [0.02527541, 0.38748869, 0.5872359 ],\n",
       "       [0.02326818, 0.70469284, 0.27203899],\n",
       "       [0.02326818, 0.70469284, 0.27203899],\n",
       "       [0.02527541, 0.38748869, 0.5872359 ],\n",
       "       [0.02326818, 0.70469284, 0.27203899],\n",
       "       [0.02326818, 0.70469284, 0.27203899],\n",
       "       [0.02326818, 0.70469284, 0.27203899],\n",
       "       [0.02527541, 0.38748869, 0.5872359 ],\n",
       "       [0.02527541, 0.38748869, 0.5872359 ],\n",
       "       [0.02527541, 0.38748869, 0.5872359 ],\n",
       "       [0.02527541, 0.38748869, 0.5872359 ],\n",
       "       [0.02326818, 0.70469284, 0.27203899],\n",
       "       [0.02326818, 0.70469284, 0.27203899],\n",
       "       [0.02326818, 0.70469284, 0.27203899],\n",
       "       [0.02527541, 0.38748869, 0.5872359 ],\n",
       "       [0.02326818, 0.70469284, 0.27203899],\n",
       "       [0.02527541, 0.38748869, 0.5872359 ],\n",
       "       [0.02527541, 0.38748869, 0.5872359 ],\n",
       "       [0.02326818, 0.70469284, 0.27203899],\n",
       "       [0.02527541, 0.38748869, 0.5872359 ],\n",
       "       [0.02527541, 0.38748869, 0.5872359 ],\n",
       "       [0.02527541, 0.38748869, 0.5872359 ],\n",
       "       [0.02326818, 0.70469284, 0.27203899],\n",
       "       [0.02326818, 0.70469284, 0.27203899],\n",
       "       [0.02326818, 0.70469284, 0.27203899],\n",
       "       [0.02326818, 0.70469284, 0.27203899],\n",
       "       [0.02527541, 0.38748869, 0.5872359 ],\n",
       "       [0.02326818, 0.70469284, 0.27203899],\n",
       "       [0.02326818, 0.70469284, 0.27203899],\n",
       "       [0.02326818, 0.70469284, 0.27203899],\n",
       "       [0.02326818, 0.70469284, 0.27203899],\n",
       "       [0.02527541, 0.38748869, 0.5872359 ],\n",
       "       [0.02527541, 0.38748869, 0.5872359 ],\n",
       "       [0.02527541, 0.38748869, 0.5872359 ],\n",
       "       [0.02326818, 0.70469284, 0.27203899],\n",
       "       [0.02326818, 0.70469284, 0.27203899],\n",
       "       [0.02326818, 0.70469284, 0.27203899],\n",
       "       [0.02527541, 0.38748869, 0.5872359 ],\n",
       "       [0.02326818, 0.70469284, 0.27203899],\n",
       "       [0.02527541, 0.38748869, 0.5872359 ],\n",
       "       [0.02326818, 0.70469284, 0.27203899],\n",
       "       [0.02326818, 0.70469284, 0.27203899],\n",
       "       [0.02326818, 0.70469284, 0.27203899],\n",
       "       [0.02527541, 0.38748869, 0.5872359 ],\n",
       "       [0.02527541, 0.38748869, 0.5872359 ],\n",
       "       [0.02326818, 0.70469284, 0.27203899],\n",
       "       [0.02527541, 0.38748869, 0.5872359 ],\n",
       "       [0.02326818, 0.70469284, 0.27203899],\n",
       "       [0.02527541, 0.38748869, 0.5872359 ],\n",
       "       [0.02326818, 0.70469284, 0.27203899],\n",
       "       [0.02527541, 0.38748869, 0.5872359 ],\n",
       "       [0.02326818, 0.70469284, 0.27203899],\n",
       "       [0.02326818, 0.70469284, 0.27203899],\n",
       "       [0.02326818, 0.70469284, 0.27203899],\n",
       "       [0.02527541, 0.38748869, 0.5872359 ],\n",
       "       [0.02326818, 0.70469284, 0.27203899],\n",
       "       [0.02326818, 0.70469284, 0.27203899],\n",
       "       [0.02527541, 0.38748869, 0.5872359 ],\n",
       "       [0.02326818, 0.70469284, 0.27203899],\n",
       "       [0.02527541, 0.38748869, 0.5872359 ],\n",
       "       [0.02326818, 0.70469284, 0.27203899],\n",
       "       [0.02326818, 0.70469284, 0.27203899],\n",
       "       [0.02527541, 0.38748869, 0.5872359 ],\n",
       "       [0.02326818, 0.70469284, 0.27203899],\n",
       "       [0.09576695, 0.51172454, 0.39250851],\n",
       "       [0.02326818, 0.70469284, 0.27203899],\n",
       "       [0.02527541, 0.38748869, 0.5872359 ],\n",
       "       [0.02326818, 0.70469284, 0.27203899],\n",
       "       [0.02326818, 0.70469284, 0.27203899],\n",
       "       [0.02326818, 0.70469284, 0.27203899],\n",
       "       [0.02527541, 0.38748869, 0.5872359 ],\n",
       "       [0.02527541, 0.38748869, 0.5872359 ],\n",
       "       [0.02527541, 0.38748869, 0.5872359 ],\n",
       "       [0.02527541, 0.38748869, 0.5872359 ],\n",
       "       [0.02326818, 0.70469284, 0.27203899],\n",
       "       [0.02326818, 0.70469284, 0.27203899],\n",
       "       [0.09576695, 0.51172454, 0.39250851],\n",
       "       [0.02326818, 0.70469284, 0.27203899],\n",
       "       [0.02326818, 0.70469284, 0.27203899],\n",
       "       [0.02326818, 0.70469284, 0.27203899],\n",
       "       [0.09576695, 0.51172454, 0.39250851],\n",
       "       [0.02527541, 0.38748869, 0.5872359 ],\n",
       "       [0.02326818, 0.70469284, 0.27203899],\n",
       "       [0.02326818, 0.70469284, 0.27203899],\n",
       "       [0.02326818, 0.70469284, 0.27203899],\n",
       "       [0.02527541, 0.38748869, 0.5872359 ],\n",
       "       [0.02527541, 0.38748869, 0.5872359 ],\n",
       "       [0.02326818, 0.70469284, 0.27203899],\n",
       "       [0.02527541, 0.38748869, 0.5872359 ],\n",
       "       [0.02527541, 0.38748869, 0.5872359 ],\n",
       "       [0.02527541, 0.38748869, 0.5872359 ],\n",
       "       [0.02527541, 0.38748869, 0.5872359 ],\n",
       "       [0.02326818, 0.70469284, 0.27203899],\n",
       "       [0.02527541, 0.38748869, 0.5872359 ],\n",
       "       [0.02326818, 0.70469284, 0.27203899],\n",
       "       [0.02326818, 0.70469284, 0.27203899],\n",
       "       [0.02326818, 0.70469284, 0.27203899],\n",
       "       [0.02527541, 0.38748869, 0.5872359 ],\n",
       "       [0.02326818, 0.70469284, 0.27203899],\n",
       "       [0.02527541, 0.38748869, 0.5872359 ],\n",
       "       [0.09576695, 0.51172454, 0.39250851],\n",
       "       [0.02326818, 0.70469284, 0.27203899],\n",
       "       [0.02527541, 0.38748869, 0.5872359 ],\n",
       "       [0.02527541, 0.38748869, 0.5872359 ],\n",
       "       [0.02326818, 0.70469284, 0.27203899],\n",
       "       [0.02326818, 0.70469284, 0.27203899],\n",
       "       [0.02326818, 0.70469284, 0.27203899],\n",
       "       [0.02326818, 0.70469284, 0.27203899],\n",
       "       [0.02527541, 0.38748869, 0.5872359 ],\n",
       "       [0.02326818, 0.70469284, 0.27203899],\n",
       "       [0.02326818, 0.70469284, 0.27203899],\n",
       "       [0.02326818, 0.70469284, 0.27203899],\n",
       "       [0.02527541, 0.38748869, 0.5872359 ],\n",
       "       [0.02326818, 0.70469284, 0.27203899],\n",
       "       [0.02326818, 0.70469284, 0.27203899],\n",
       "       [0.02527541, 0.38748869, 0.5872359 ],\n",
       "       [0.02527541, 0.38748869, 0.5872359 ],\n",
       "       [0.02527541, 0.38748869, 0.5872359 ],\n",
       "       [0.02326818, 0.70469284, 0.27203899],\n",
       "       [0.02527541, 0.38748869, 0.5872359 ],\n",
       "       [0.02326818, 0.70469284, 0.27203899],\n",
       "       [0.02527541, 0.38748869, 0.5872359 ],\n",
       "       [0.02527541, 0.38748869, 0.5872359 ],\n",
       "       [0.02527541, 0.38748869, 0.5872359 ],\n",
       "       [0.02527541, 0.38748869, 0.5872359 ],\n",
       "       [0.02527541, 0.38748869, 0.5872359 ],\n",
       "       [0.02527541, 0.38748869, 0.5872359 ]])"
      ]
     },
     "execution_count": 112,
     "metadata": {},
     "output_type": "execute_result"
    }
   ],
   "source": [
    "model.predict_proba(X)"
   ]
  },
  {
   "cell_type": "code",
   "execution_count": 113,
   "metadata": {},
   "outputs": [
    {
     "data": {
      "text/plain": [
       "array([1, 2, 1, 1, 1, 2, 1, 2, 2, 1, 1, 1, 2, 1, 1, 2, 1, 0, 2, 1, 1, 1,\n",
       "       1, 2, 2, 1, 2, 1, 1, 2, 1, 1, 1, 1, 2, 2, 1, 2, 1, 1, 1, 2, 1, 1,\n",
       "       2, 1, 2, 2, 2, 2, 1, 2, 2, 1, 1, 1, 1, 2, 1, 1, 1, 1, 1, 1, 1, 1,\n",
       "       1, 1, 1, 1, 0, 1, 2, 2, 1, 1, 1, 2, 2, 1, 2, 2, 1, 2, 1, 2, 2, 2,\n",
       "       1, 2, 1, 1, 1, 1, 1, 1, 1, 1, 2, 1, 1, 2, 2, 1, 2, 1, 1, 2, 1, 1,\n",
       "       1, 2, 2, 2, 2, 1, 1, 1, 2, 1, 2, 2, 1, 2, 2, 2, 1, 1, 1, 1, 2, 1,\n",
       "       1, 1, 1, 2, 2, 2, 1, 1, 1, 2, 1, 2, 1, 1, 1, 2, 2, 1, 2, 1, 2, 1,\n",
       "       2, 1, 1, 1, 2, 1, 1, 2, 1, 2, 1, 1, 2, 1, 0, 1, 2, 1, 1, 1, 2, 2,\n",
       "       2, 2, 1, 1, 0, 1, 1, 1, 0, 2, 1, 1, 1, 2, 2, 1, 2, 2, 2, 2, 1, 2,\n",
       "       1, 1, 1, 2, 1, 2, 0, 1, 2, 2, 1, 1, 1, 1, 2, 1, 1, 1, 2, 1, 1, 2,\n",
       "       2, 2, 1, 2, 1, 2, 2, 2, 2, 2, 2])"
      ]
     },
     "execution_count": 113,
     "metadata": {},
     "output_type": "execute_result"
    }
   ],
   "source": [
    "y"
   ]
  },
  {
   "cell_type": "code",
   "execution_count": 114,
   "metadata": {},
   "outputs": [
    {
     "data": {
      "text/plain": [
       "GradientBoostingClassifier(random_state=1)"
      ]
     },
     "execution_count": 114,
     "metadata": {},
     "output_type": "execute_result"
    }
   ],
   "source": [
    "from sklearn.ensemble import GradientBoostingClassifier\n",
    "clf = GradientBoostingClassifier(random_state=1)\n",
    "clf.fit(X, y)"
   ]
  },
  {
   "cell_type": "code",
   "execution_count": 115,
   "metadata": {},
   "outputs": [
    {
     "data": {
      "text/plain": [
       "array([1, 2, 1, 1, 1, 2, 1, 2, 2, 1, 1, 1, 2, 1, 1, 2, 1, 1, 2, 1, 1, 1,\n",
       "       1, 2, 2, 1, 2, 1, 1, 2, 1, 1, 1, 1, 2, 2, 1, 2, 1, 1, 1, 2, 1, 1,\n",
       "       2, 1, 2, 2, 2, 2, 1, 2, 2, 1, 1, 1, 1, 2, 1, 1, 1, 1, 1, 1, 1, 1,\n",
       "       1, 1, 1, 1, 1, 1, 2, 2, 1, 1, 1, 2, 2, 1, 2, 2, 1, 2, 1, 2, 2, 2,\n",
       "       1, 2, 1, 1, 1, 1, 1, 1, 1, 1, 2, 1, 1, 2, 2, 1, 2, 1, 1, 2, 1, 1,\n",
       "       1, 2, 2, 2, 2, 1, 1, 1, 2, 1, 2, 2, 1, 2, 2, 2, 1, 1, 1, 1, 2, 1,\n",
       "       1, 1, 1, 2, 2, 2, 1, 1, 1, 2, 1, 2, 1, 1, 1, 2, 2, 1, 2, 1, 2, 1,\n",
       "       2, 1, 1, 1, 2, 1, 1, 2, 1, 2, 1, 1, 2, 1, 1, 1, 2, 1, 1, 1, 2, 2,\n",
       "       2, 2, 1, 1, 1, 1, 1, 1, 1, 2, 1, 1, 1, 2, 2, 1, 2, 2, 2, 2, 1, 2,\n",
       "       1, 1, 1, 2, 1, 2, 1, 1, 2, 2, 1, 1, 1, 1, 2, 1, 1, 1, 2, 1, 1, 2,\n",
       "       2, 2, 1, 2, 1, 2, 2, 2, 2, 2, 2])"
      ]
     },
     "execution_count": 115,
     "metadata": {},
     "output_type": "execute_result"
    }
   ],
   "source": [
    "model.predict(X)"
   ]
  },
  {
   "cell_type": "code",
   "execution_count": 116,
   "metadata": {},
   "outputs": [
    {
     "data": {
      "text/plain": [
       "array([[0.02326818, 0.70469284, 0.27203899],\n",
       "       [0.02527541, 0.38748869, 0.5872359 ],\n",
       "       [0.02326818, 0.70469284, 0.27203899],\n",
       "       [0.02326818, 0.70469284, 0.27203899],\n",
       "       [0.02326818, 0.70469284, 0.27203899],\n",
       "       [0.02527541, 0.38748869, 0.5872359 ],\n",
       "       [0.02326818, 0.70469284, 0.27203899],\n",
       "       [0.02527541, 0.38748869, 0.5872359 ],\n",
       "       [0.02527541, 0.38748869, 0.5872359 ],\n",
       "       [0.02326818, 0.70469284, 0.27203899],\n",
       "       [0.02326818, 0.70469284, 0.27203899],\n",
       "       [0.02326818, 0.70469284, 0.27203899],\n",
       "       [0.02527541, 0.38748869, 0.5872359 ],\n",
       "       [0.02326818, 0.70469284, 0.27203899],\n",
       "       [0.02326818, 0.70469284, 0.27203899],\n",
       "       [0.02527541, 0.38748869, 0.5872359 ],\n",
       "       [0.02326818, 0.70469284, 0.27203899],\n",
       "       [0.09576695, 0.51172454, 0.39250851],\n",
       "       [0.02527541, 0.38748869, 0.5872359 ],\n",
       "       [0.02326818, 0.70469284, 0.27203899],\n",
       "       [0.02326818, 0.70469284, 0.27203899],\n",
       "       [0.02326818, 0.70469284, 0.27203899],\n",
       "       [0.02326818, 0.70469284, 0.27203899],\n",
       "       [0.02527541, 0.38748869, 0.5872359 ],\n",
       "       [0.02527541, 0.38748869, 0.5872359 ],\n",
       "       [0.02326818, 0.70469284, 0.27203899],\n",
       "       [0.02527541, 0.38748869, 0.5872359 ],\n",
       "       [0.02326818, 0.70469284, 0.27203899],\n",
       "       [0.02326818, 0.70469284, 0.27203899],\n",
       "       [0.02527541, 0.38748869, 0.5872359 ],\n",
       "       [0.02326818, 0.70469284, 0.27203899],\n",
       "       [0.02630121, 0.57930052, 0.39439827],\n",
       "       [0.02326818, 0.70469284, 0.27203899],\n",
       "       [0.02326818, 0.70469284, 0.27203899],\n",
       "       [0.02527541, 0.38748869, 0.5872359 ],\n",
       "       [0.02527541, 0.38748869, 0.5872359 ],\n",
       "       [0.02326818, 0.70469284, 0.27203899],\n",
       "       [0.02527541, 0.38748869, 0.5872359 ],\n",
       "       [0.02326818, 0.70469284, 0.27203899],\n",
       "       [0.02326818, 0.70469284, 0.27203899],\n",
       "       [0.02326818, 0.70469284, 0.27203899],\n",
       "       [0.02527541, 0.38748869, 0.5872359 ],\n",
       "       [0.02326818, 0.70469284, 0.27203899],\n",
       "       [0.02326818, 0.70469284, 0.27203899],\n",
       "       [0.02527541, 0.38748869, 0.5872359 ],\n",
       "       [0.02326818, 0.70469284, 0.27203899],\n",
       "       [0.02527541, 0.38748869, 0.5872359 ],\n",
       "       [0.02527541, 0.38748869, 0.5872359 ],\n",
       "       [0.02527541, 0.38748869, 0.5872359 ],\n",
       "       [0.02527541, 0.38748869, 0.5872359 ],\n",
       "       [0.02326818, 0.70469284, 0.27203899],\n",
       "       [0.02527541, 0.38748869, 0.5872359 ],\n",
       "       [0.02527541, 0.38748869, 0.5872359 ],\n",
       "       [0.02326818, 0.70469284, 0.27203899],\n",
       "       [0.02326818, 0.70469284, 0.27203899],\n",
       "       [0.02326818, 0.70469284, 0.27203899],\n",
       "       [0.02326818, 0.70469284, 0.27203899],\n",
       "       [0.02527541, 0.38748869, 0.5872359 ],\n",
       "       [0.02326818, 0.70469284, 0.27203899],\n",
       "       [0.02326818, 0.70469284, 0.27203899],\n",
       "       [0.02326818, 0.70469284, 0.27203899],\n",
       "       [0.02326818, 0.70469284, 0.27203899],\n",
       "       [0.02326818, 0.70469284, 0.27203899],\n",
       "       [0.02326818, 0.70469284, 0.27203899],\n",
       "       [0.02326818, 0.70469284, 0.27203899],\n",
       "       [0.02326818, 0.70469284, 0.27203899],\n",
       "       [0.02326818, 0.70469284, 0.27203899],\n",
       "       [0.02326818, 0.70469284, 0.27203899],\n",
       "       [0.02326818, 0.70469284, 0.27203899],\n",
       "       [0.02326818, 0.70469284, 0.27203899],\n",
       "       [0.09576695, 0.51172454, 0.39250851],\n",
       "       [0.02326818, 0.70469284, 0.27203899],\n",
       "       [0.02527541, 0.38748869, 0.5872359 ],\n",
       "       [0.02527541, 0.38748869, 0.5872359 ],\n",
       "       [0.02326818, 0.70469284, 0.27203899],\n",
       "       [0.02326818, 0.70469284, 0.27203899],\n",
       "       [0.02326818, 0.70469284, 0.27203899],\n",
       "       [0.02527541, 0.38748869, 0.5872359 ],\n",
       "       [0.02527541, 0.38748869, 0.5872359 ],\n",
       "       [0.02326818, 0.70469284, 0.27203899],\n",
       "       [0.02527541, 0.38748869, 0.5872359 ],\n",
       "       [0.02527541, 0.38748869, 0.5872359 ],\n",
       "       [0.02326818, 0.70469284, 0.27203899],\n",
       "       [0.02527541, 0.38748869, 0.5872359 ],\n",
       "       [0.02326818, 0.70469284, 0.27203899],\n",
       "       [0.02527541, 0.38748869, 0.5872359 ],\n",
       "       [0.02527541, 0.38748869, 0.5872359 ],\n",
       "       [0.02527541, 0.38748869, 0.5872359 ],\n",
       "       [0.02326818, 0.70469284, 0.27203899],\n",
       "       [0.02527541, 0.38748869, 0.5872359 ],\n",
       "       [0.02326818, 0.70469284, 0.27203899],\n",
       "       [0.02326818, 0.70469284, 0.27203899],\n",
       "       [0.02326818, 0.70469284, 0.27203899],\n",
       "       [0.02326818, 0.70469284, 0.27203899],\n",
       "       [0.02326818, 0.70469284, 0.27203899],\n",
       "       [0.02326818, 0.70469284, 0.27203899],\n",
       "       [0.02326818, 0.70469284, 0.27203899],\n",
       "       [0.02326818, 0.70469284, 0.27203899],\n",
       "       [0.02527541, 0.38748869, 0.5872359 ],\n",
       "       [0.02326818, 0.70469284, 0.27203899],\n",
       "       [0.02326818, 0.70469284, 0.27203899],\n",
       "       [0.02527541, 0.38748869, 0.5872359 ],\n",
       "       [0.02527541, 0.38748869, 0.5872359 ],\n",
       "       [0.02326818, 0.70469284, 0.27203899],\n",
       "       [0.02527541, 0.38748869, 0.5872359 ],\n",
       "       [0.02326818, 0.70469284, 0.27203899],\n",
       "       [0.02326818, 0.70469284, 0.27203899],\n",
       "       [0.02527541, 0.38748869, 0.5872359 ],\n",
       "       [0.02326818, 0.70469284, 0.27203899],\n",
       "       [0.02326818, 0.70469284, 0.27203899],\n",
       "       [0.02326818, 0.70469284, 0.27203899],\n",
       "       [0.02527541, 0.38748869, 0.5872359 ],\n",
       "       [0.02527541, 0.38748869, 0.5872359 ],\n",
       "       [0.02527541, 0.38748869, 0.5872359 ],\n",
       "       [0.02527541, 0.38748869, 0.5872359 ],\n",
       "       [0.02326818, 0.70469284, 0.27203899],\n",
       "       [0.02326818, 0.70469284, 0.27203899],\n",
       "       [0.02326818, 0.70469284, 0.27203899],\n",
       "       [0.02527541, 0.38748869, 0.5872359 ],\n",
       "       [0.02326818, 0.70469284, 0.27203899],\n",
       "       [0.02527541, 0.38748869, 0.5872359 ],\n",
       "       [0.02527541, 0.38748869, 0.5872359 ],\n",
       "       [0.02326818, 0.70469284, 0.27203899],\n",
       "       [0.02527541, 0.38748869, 0.5872359 ],\n",
       "       [0.02527541, 0.38748869, 0.5872359 ],\n",
       "       [0.02527541, 0.38748869, 0.5872359 ],\n",
       "       [0.02326818, 0.70469284, 0.27203899],\n",
       "       [0.02326818, 0.70469284, 0.27203899],\n",
       "       [0.02326818, 0.70469284, 0.27203899],\n",
       "       [0.02326818, 0.70469284, 0.27203899],\n",
       "       [0.02527541, 0.38748869, 0.5872359 ],\n",
       "       [0.02326818, 0.70469284, 0.27203899],\n",
       "       [0.02326818, 0.70469284, 0.27203899],\n",
       "       [0.02326818, 0.70469284, 0.27203899],\n",
       "       [0.02326818, 0.70469284, 0.27203899],\n",
       "       [0.02527541, 0.38748869, 0.5872359 ],\n",
       "       [0.02527541, 0.38748869, 0.5872359 ],\n",
       "       [0.02527541, 0.38748869, 0.5872359 ],\n",
       "       [0.02326818, 0.70469284, 0.27203899],\n",
       "       [0.02326818, 0.70469284, 0.27203899],\n",
       "       [0.02326818, 0.70469284, 0.27203899],\n",
       "       [0.02527541, 0.38748869, 0.5872359 ],\n",
       "       [0.02326818, 0.70469284, 0.27203899],\n",
       "       [0.02527541, 0.38748869, 0.5872359 ],\n",
       "       [0.02326818, 0.70469284, 0.27203899],\n",
       "       [0.02326818, 0.70469284, 0.27203899],\n",
       "       [0.02326818, 0.70469284, 0.27203899],\n",
       "       [0.02527541, 0.38748869, 0.5872359 ],\n",
       "       [0.02527541, 0.38748869, 0.5872359 ],\n",
       "       [0.02326818, 0.70469284, 0.27203899],\n",
       "       [0.02527541, 0.38748869, 0.5872359 ],\n",
       "       [0.02326818, 0.70469284, 0.27203899],\n",
       "       [0.02527541, 0.38748869, 0.5872359 ],\n",
       "       [0.02326818, 0.70469284, 0.27203899],\n",
       "       [0.02527541, 0.38748869, 0.5872359 ],\n",
       "       [0.02326818, 0.70469284, 0.27203899],\n",
       "       [0.02326818, 0.70469284, 0.27203899],\n",
       "       [0.02326818, 0.70469284, 0.27203899],\n",
       "       [0.02527541, 0.38748869, 0.5872359 ],\n",
       "       [0.02326818, 0.70469284, 0.27203899],\n",
       "       [0.02326818, 0.70469284, 0.27203899],\n",
       "       [0.02527541, 0.38748869, 0.5872359 ],\n",
       "       [0.02326818, 0.70469284, 0.27203899],\n",
       "       [0.02527541, 0.38748869, 0.5872359 ],\n",
       "       [0.02326818, 0.70469284, 0.27203899],\n",
       "       [0.02326818, 0.70469284, 0.27203899],\n",
       "       [0.02527541, 0.38748869, 0.5872359 ],\n",
       "       [0.02326818, 0.70469284, 0.27203899],\n",
       "       [0.09576695, 0.51172454, 0.39250851],\n",
       "       [0.02326818, 0.70469284, 0.27203899],\n",
       "       [0.02527541, 0.38748869, 0.5872359 ],\n",
       "       [0.02326818, 0.70469284, 0.27203899],\n",
       "       [0.02326818, 0.70469284, 0.27203899],\n",
       "       [0.02326818, 0.70469284, 0.27203899],\n",
       "       [0.02527541, 0.38748869, 0.5872359 ],\n",
       "       [0.02527541, 0.38748869, 0.5872359 ],\n",
       "       [0.02527541, 0.38748869, 0.5872359 ],\n",
       "       [0.02527541, 0.38748869, 0.5872359 ],\n",
       "       [0.02326818, 0.70469284, 0.27203899],\n",
       "       [0.02326818, 0.70469284, 0.27203899],\n",
       "       [0.09576695, 0.51172454, 0.39250851],\n",
       "       [0.02326818, 0.70469284, 0.27203899],\n",
       "       [0.02326818, 0.70469284, 0.27203899],\n",
       "       [0.02326818, 0.70469284, 0.27203899],\n",
       "       [0.09576695, 0.51172454, 0.39250851],\n",
       "       [0.02527541, 0.38748869, 0.5872359 ],\n",
       "       [0.02326818, 0.70469284, 0.27203899],\n",
       "       [0.02326818, 0.70469284, 0.27203899],\n",
       "       [0.02326818, 0.70469284, 0.27203899],\n",
       "       [0.02527541, 0.38748869, 0.5872359 ],\n",
       "       [0.02527541, 0.38748869, 0.5872359 ],\n",
       "       [0.02326818, 0.70469284, 0.27203899],\n",
       "       [0.02527541, 0.38748869, 0.5872359 ],\n",
       "       [0.02527541, 0.38748869, 0.5872359 ],\n",
       "       [0.02527541, 0.38748869, 0.5872359 ],\n",
       "       [0.02527541, 0.38748869, 0.5872359 ],\n",
       "       [0.02326818, 0.70469284, 0.27203899],\n",
       "       [0.02527541, 0.38748869, 0.5872359 ],\n",
       "       [0.02326818, 0.70469284, 0.27203899],\n",
       "       [0.02326818, 0.70469284, 0.27203899],\n",
       "       [0.02326818, 0.70469284, 0.27203899],\n",
       "       [0.02527541, 0.38748869, 0.5872359 ],\n",
       "       [0.02326818, 0.70469284, 0.27203899],\n",
       "       [0.02527541, 0.38748869, 0.5872359 ],\n",
       "       [0.09576695, 0.51172454, 0.39250851],\n",
       "       [0.02326818, 0.70469284, 0.27203899],\n",
       "       [0.02527541, 0.38748869, 0.5872359 ],\n",
       "       [0.02527541, 0.38748869, 0.5872359 ],\n",
       "       [0.02326818, 0.70469284, 0.27203899],\n",
       "       [0.02326818, 0.70469284, 0.27203899],\n",
       "       [0.02326818, 0.70469284, 0.27203899],\n",
       "       [0.02326818, 0.70469284, 0.27203899],\n",
       "       [0.02527541, 0.38748869, 0.5872359 ],\n",
       "       [0.02326818, 0.70469284, 0.27203899],\n",
       "       [0.02326818, 0.70469284, 0.27203899],\n",
       "       [0.02326818, 0.70469284, 0.27203899],\n",
       "       [0.02527541, 0.38748869, 0.5872359 ],\n",
       "       [0.02326818, 0.70469284, 0.27203899],\n",
       "       [0.02326818, 0.70469284, 0.27203899],\n",
       "       [0.02527541, 0.38748869, 0.5872359 ],\n",
       "       [0.02527541, 0.38748869, 0.5872359 ],\n",
       "       [0.02527541, 0.38748869, 0.5872359 ],\n",
       "       [0.02326818, 0.70469284, 0.27203899],\n",
       "       [0.02527541, 0.38748869, 0.5872359 ],\n",
       "       [0.02326818, 0.70469284, 0.27203899],\n",
       "       [0.02527541, 0.38748869, 0.5872359 ],\n",
       "       [0.02527541, 0.38748869, 0.5872359 ],\n",
       "       [0.02527541, 0.38748869, 0.5872359 ],\n",
       "       [0.02527541, 0.38748869, 0.5872359 ],\n",
       "       [0.02527541, 0.38748869, 0.5872359 ],\n",
       "       [0.02527541, 0.38748869, 0.5872359 ]])"
      ]
     },
     "execution_count": 116,
     "metadata": {},
     "output_type": "execute_result"
    }
   ],
   "source": [
    "model.predict_proba(X)"
   ]
  },
  {
   "cell_type": "code",
   "execution_count": 117,
   "metadata": {},
   "outputs": [],
   "source": [
    "X_test = pd.get_dummies(df_cities[\"name\"],prefix='name',drop_first=True)"
   ]
  },
  {
   "cell_type": "code",
   "execution_count": 118,
   "metadata": {},
   "outputs": [
    {
     "ename": "ValueError",
     "evalue": "X has 22161 features per sample; expecting 230",
     "output_type": "error",
     "traceback": [
      "\u001b[0;31m---------------------------------------------------------------------------\u001b[0m",
      "\u001b[0;31mValueError\u001b[0m                                Traceback (most recent call last)",
      "\u001b[0;32m<ipython-input-118-decd67bbf386>\u001b[0m in \u001b[0;36m<module>\u001b[0;34m\u001b[0m\n\u001b[0;32m----> 1\u001b[0;31m \u001b[0mmodel\u001b[0m\u001b[0;34m.\u001b[0m\u001b[0mpredict\u001b[0m\u001b[0;34m(\u001b[0m\u001b[0mX_test\u001b[0m\u001b[0;34m)\u001b[0m\u001b[0;34m\u001b[0m\u001b[0;34m\u001b[0m\u001b[0m\n\u001b[0m",
      "\u001b[0;32m~/.local/lib/python3.8/site-packages/sklearn/linear_model/_base.py\u001b[0m in \u001b[0;36mpredict\u001b[0;34m(self, X)\u001b[0m\n\u001b[1;32m    305\u001b[0m             \u001b[0mPredicted\u001b[0m \u001b[0;32mclass\u001b[0m \u001b[0mlabel\u001b[0m \u001b[0mper\u001b[0m \u001b[0msample\u001b[0m\u001b[0;34m.\u001b[0m\u001b[0;34m\u001b[0m\u001b[0;34m\u001b[0m\u001b[0m\n\u001b[1;32m    306\u001b[0m         \"\"\"\n\u001b[0;32m--> 307\u001b[0;31m         \u001b[0mscores\u001b[0m \u001b[0;34m=\u001b[0m \u001b[0mself\u001b[0m\u001b[0;34m.\u001b[0m\u001b[0mdecision_function\u001b[0m\u001b[0;34m(\u001b[0m\u001b[0mX\u001b[0m\u001b[0;34m)\u001b[0m\u001b[0;34m\u001b[0m\u001b[0;34m\u001b[0m\u001b[0m\n\u001b[0m\u001b[1;32m    308\u001b[0m         \u001b[0;32mif\u001b[0m \u001b[0mlen\u001b[0m\u001b[0;34m(\u001b[0m\u001b[0mscores\u001b[0m\u001b[0;34m.\u001b[0m\u001b[0mshape\u001b[0m\u001b[0;34m)\u001b[0m \u001b[0;34m==\u001b[0m \u001b[0;36m1\u001b[0m\u001b[0;34m:\u001b[0m\u001b[0;34m\u001b[0m\u001b[0;34m\u001b[0m\u001b[0m\n\u001b[1;32m    309\u001b[0m             \u001b[0mindices\u001b[0m \u001b[0;34m=\u001b[0m \u001b[0;34m(\u001b[0m\u001b[0mscores\u001b[0m \u001b[0;34m>\u001b[0m \u001b[0;36m0\u001b[0m\u001b[0;34m)\u001b[0m\u001b[0;34m.\u001b[0m\u001b[0mastype\u001b[0m\u001b[0;34m(\u001b[0m\u001b[0mnp\u001b[0m\u001b[0;34m.\u001b[0m\u001b[0mint\u001b[0m\u001b[0;34m)\u001b[0m\u001b[0;34m\u001b[0m\u001b[0;34m\u001b[0m\u001b[0m\n",
      "\u001b[0;32m~/.local/lib/python3.8/site-packages/sklearn/linear_model/_base.py\u001b[0m in \u001b[0;36mdecision_function\u001b[0;34m(self, X)\u001b[0m\n\u001b[1;32m    284\u001b[0m         \u001b[0mn_features\u001b[0m \u001b[0;34m=\u001b[0m \u001b[0mself\u001b[0m\u001b[0;34m.\u001b[0m\u001b[0mcoef_\u001b[0m\u001b[0;34m.\u001b[0m\u001b[0mshape\u001b[0m\u001b[0;34m[\u001b[0m\u001b[0;36m1\u001b[0m\u001b[0;34m]\u001b[0m\u001b[0;34m\u001b[0m\u001b[0;34m\u001b[0m\u001b[0m\n\u001b[1;32m    285\u001b[0m         \u001b[0;32mif\u001b[0m \u001b[0mX\u001b[0m\u001b[0;34m.\u001b[0m\u001b[0mshape\u001b[0m\u001b[0;34m[\u001b[0m\u001b[0;36m1\u001b[0m\u001b[0;34m]\u001b[0m \u001b[0;34m!=\u001b[0m \u001b[0mn_features\u001b[0m\u001b[0;34m:\u001b[0m\u001b[0;34m\u001b[0m\u001b[0;34m\u001b[0m\u001b[0m\n\u001b[0;32m--> 286\u001b[0;31m             raise ValueError(\"X has %d features per sample; expecting %d\"\n\u001b[0m\u001b[1;32m    287\u001b[0m                              % (X.shape[1], n_features))\n\u001b[1;32m    288\u001b[0m \u001b[0;34m\u001b[0m\u001b[0m\n",
      "\u001b[0;31mValueError\u001b[0m: X has 22161 features per sample; expecting 230"
     ]
    }
   ],
   "source": [
    "model.predict(X_test)"
   ]
  },
  {
   "cell_type": "code",
   "execution_count": 121,
   "metadata": {},
   "outputs": [
    {
     "data": {
      "text/plain": [
       "GradientBoostingClassifier(random_state=1)"
      ]
     },
     "execution_count": 121,
     "metadata": {},
     "output_type": "execute_result"
    }
   ],
   "source": [
    "from sklearn.model_selection import train_test_split\n",
    "X_train, X_test, y_train, y_test = train_test_split(X, y, test_size=0.33, random_state=42)\n",
    "from sklearn.ensemble import GradientBoostingClassifier\n",
    "clf = GradientBoostingClassifier(random_state=1)\n",
    "clf.fit(X_train, y_train)"
   ]
  },
  {
   "cell_type": "code",
   "execution_count": 129,
   "metadata": {},
   "outputs": [
    {
     "data": {
      "text/plain": [
       "array([[0.02326818, 0.70469284, 0.27203899],\n",
       "       [0.02326818, 0.70469284, 0.27203899],\n",
       "       [0.02326818, 0.70469284, 0.27203899],\n",
       "       [0.02527541, 0.38748869, 0.5872359 ],\n",
       "       [0.02527541, 0.38748869, 0.5872359 ],\n",
       "       [0.02326818, 0.70469284, 0.27203899],\n",
       "       [0.02326818, 0.70469284, 0.27203899],\n",
       "       [0.02326818, 0.70469284, 0.27203899],\n",
       "       [0.02527541, 0.38748869, 0.5872359 ],\n",
       "       [0.02326818, 0.70469284, 0.27203899],\n",
       "       [0.02326818, 0.70469284, 0.27203899],\n",
       "       [0.02326818, 0.70469284, 0.27203899],\n",
       "       [0.02326818, 0.70469284, 0.27203899],\n",
       "       [0.02326818, 0.70469284, 0.27203899],\n",
       "       [0.02527541, 0.38748869, 0.5872359 ],\n",
       "       [0.02527541, 0.38748869, 0.5872359 ],\n",
       "       [0.02326818, 0.70469284, 0.27203899],\n",
       "       [0.02326818, 0.70469284, 0.27203899],\n",
       "       [0.02527541, 0.38748869, 0.5872359 ],\n",
       "       [0.02527541, 0.38748869, 0.5872359 ],\n",
       "       [0.02326818, 0.70469284, 0.27203899],\n",
       "       [0.02326818, 0.70469284, 0.27203899],\n",
       "       [0.02326818, 0.70469284, 0.27203899],\n",
       "       [0.02326818, 0.70469284, 0.27203899],\n",
       "       [0.02527541, 0.38748869, 0.5872359 ],\n",
       "       [0.02527541, 0.38748869, 0.5872359 ],\n",
       "       [0.02527541, 0.38748869, 0.5872359 ],\n",
       "       [0.02527541, 0.38748869, 0.5872359 ],\n",
       "       [0.02527541, 0.38748869, 0.5872359 ],\n",
       "       [0.02326818, 0.70469284, 0.27203899],\n",
       "       [0.02326818, 0.70469284, 0.27203899],\n",
       "       [0.02326818, 0.70469284, 0.27203899],\n",
       "       [0.02527541, 0.38748869, 0.5872359 ],\n",
       "       [0.02326818, 0.70469284, 0.27203899],\n",
       "       [0.02326818, 0.70469284, 0.27203899],\n",
       "       [0.02326818, 0.70469284, 0.27203899],\n",
       "       [0.02326818, 0.70469284, 0.27203899],\n",
       "       [0.02326818, 0.70469284, 0.27203899],\n",
       "       [0.02326818, 0.70469284, 0.27203899],\n",
       "       [0.02326818, 0.70469284, 0.27203899],\n",
       "       [0.02326818, 0.70469284, 0.27203899],\n",
       "       [0.02527541, 0.38748869, 0.5872359 ],\n",
       "       [0.02527541, 0.38748869, 0.5872359 ],\n",
       "       [0.02527541, 0.38748869, 0.5872359 ],\n",
       "       [0.02527541, 0.38748869, 0.5872359 ],\n",
       "       [0.02527541, 0.38748869, 0.5872359 ],\n",
       "       [0.02527541, 0.38748869, 0.5872359 ],\n",
       "       [0.02326818, 0.70469284, 0.27203899],\n",
       "       [0.02527541, 0.38748869, 0.5872359 ],\n",
       "       [0.02326818, 0.70469284, 0.27203899],\n",
       "       [0.09576695, 0.51172454, 0.39250851],\n",
       "       [0.02326818, 0.70469284, 0.27203899],\n",
       "       [0.02527541, 0.38748869, 0.5872359 ],\n",
       "       [0.02326818, 0.70469284, 0.27203899],\n",
       "       [0.02527541, 0.38748869, 0.5872359 ],\n",
       "       [0.02326818, 0.70469284, 0.27203899],\n",
       "       [0.02527541, 0.38748869, 0.5872359 ],\n",
       "       [0.02326818, 0.70469284, 0.27203899],\n",
       "       [0.02326818, 0.70469284, 0.27203899],\n",
       "       [0.02527541, 0.38748869, 0.5872359 ],\n",
       "       [0.02326818, 0.70469284, 0.27203899],\n",
       "       [0.02326818, 0.70469284, 0.27203899],\n",
       "       [0.02326818, 0.70469284, 0.27203899],\n",
       "       [0.02326818, 0.70469284, 0.27203899],\n",
       "       [0.02527541, 0.38748869, 0.5872359 ],\n",
       "       [0.02527541, 0.38748869, 0.5872359 ],\n",
       "       [0.02326818, 0.70469284, 0.27203899],\n",
       "       [0.02326818, 0.70469284, 0.27203899],\n",
       "       [0.02326818, 0.70469284, 0.27203899],\n",
       "       [0.02527541, 0.38748869, 0.5872359 ],\n",
       "       [0.02326818, 0.70469284, 0.27203899],\n",
       "       [0.02527541, 0.38748869, 0.5872359 ],\n",
       "       [0.02326818, 0.70469284, 0.27203899],\n",
       "       [0.02527541, 0.38748869, 0.5872359 ],\n",
       "       [0.02326818, 0.70469284, 0.27203899],\n",
       "       [0.02326818, 0.70469284, 0.27203899],\n",
       "       [0.02527541, 0.38748869, 0.5872359 ]])"
      ]
     },
     "execution_count": 129,
     "metadata": {},
     "output_type": "execute_result"
    }
   ],
   "source": [
    "model.predict_proba(X_test)"
   ]
  },
  {
   "cell_type": "code",
   "execution_count": 133,
   "metadata": {},
   "outputs": [],
   "source": [
    "# Get the probability for each prediction\n",
    "import numpy as np\n",
    "index_array = np.argmax(model.predict_proba(X_test),  axis=-1)\n",
    "prediction_probability = np.take_along_axis(model.predict_proba(X_test), np.expand_dims(index_array, axis=-1), axis=-1)"
   ]
  },
  {
   "cell_type": "code",
   "execution_count": 137,
   "metadata": {},
   "outputs": [],
   "source": [
    "# Prediction on the test set\n",
    "prediction = list(le.inverse_transform(model.predict(X_test)))"
   ]
  },
  {
   "cell_type": "code",
   "execution_count": 151,
   "metadata": {},
   "outputs": [],
   "source": [
    "city = list(X_test.idxmax(axis=1))"
   ]
  },
  {
   "cell_type": "code",
   "execution_count": 154,
   "metadata": {},
   "outputs": [],
   "source": [
    "prediction_proba=[ i[0] for i in prediction_probability.tolist()]"
   ]
  },
  {
   "cell_type": "code",
   "execution_count": 155,
   "metadata": {},
   "outputs": [
    {
     "data": {
      "text/plain": [
       "[0.7046928371937891,\n",
       " 0.7046928371937891,\n",
       " 0.7046928371937891,\n",
       " 0.5872358953524177,\n",
       " 0.5872358953524177,\n",
       " 0.7046928371937891,\n",
       " 0.7046928371937891,\n",
       " 0.7046928371937891,\n",
       " 0.5872358953524177,\n",
       " 0.7046928371937891,\n",
       " 0.7046928371937891,\n",
       " 0.7046928371937891,\n",
       " 0.7046928371937891,\n",
       " 0.7046928371937891,\n",
       " 0.5872358953524177,\n",
       " 0.5872358953524177,\n",
       " 0.7046928371937891,\n",
       " 0.7046928371937891,\n",
       " 0.5872358953524177,\n",
       " 0.5872358953524177,\n",
       " 0.7046928371937891,\n",
       " 0.7046928371937891,\n",
       " 0.7046928371937891,\n",
       " 0.7046928371937891,\n",
       " 0.5872358953524177,\n",
       " 0.5872358953524177,\n",
       " 0.5872358953524177,\n",
       " 0.5872358953524177,\n",
       " 0.5872358953524177,\n",
       " 0.7046928371937891,\n",
       " 0.7046928371937891,\n",
       " 0.7046928371937891,\n",
       " 0.5872358953524177,\n",
       " 0.7046928371937891,\n",
       " 0.7046928371937891,\n",
       " 0.7046928371937891,\n",
       " 0.7046928371937891,\n",
       " 0.7046928371937891,\n",
       " 0.7046928371937891,\n",
       " 0.7046928371937891,\n",
       " 0.7046928371937891,\n",
       " 0.5872358953524177,\n",
       " 0.5872358953524177,\n",
       " 0.5872358953524177,\n",
       " 0.5872358953524177,\n",
       " 0.5872358953524177,\n",
       " 0.5872358953524177,\n",
       " 0.7046928371937891,\n",
       " 0.5872358953524177,\n",
       " 0.7046928371937891,\n",
       " 0.5117245426874277,\n",
       " 0.7046928371937891,\n",
       " 0.5872358953524177,\n",
       " 0.7046928371937891,\n",
       " 0.5872358953524177,\n",
       " 0.7046928371937891,\n",
       " 0.5872358953524177,\n",
       " 0.7046928371937891,\n",
       " 0.7046928371937891,\n",
       " 0.5872358953524177,\n",
       " 0.7046928371937891,\n",
       " 0.7046928371937891,\n",
       " 0.7046928371937891,\n",
       " 0.7046928371937891,\n",
       " 0.5872358953524177,\n",
       " 0.5872358953524177,\n",
       " 0.7046928371937891,\n",
       " 0.7046928371937891,\n",
       " 0.7046928371937891,\n",
       " 0.5872358953524177,\n",
       " 0.7046928371937891,\n",
       " 0.5872358953524177,\n",
       " 0.7046928371937891,\n",
       " 0.5872358953524177,\n",
       " 0.7046928371937891,\n",
       " 0.7046928371937891,\n",
       " 0.5872358953524177]"
      ]
     },
     "execution_count": 155,
     "metadata": {},
     "output_type": "execute_result"
    }
   ],
   "source": [
    "df_test = pd.DataFrame([city, prediction, prediction_proba], columns =['city', 'prediction', 'prediction_proba'], dtype = float)"
   ]
  },
  {
   "cell_type": "code",
   "execution_count": null,
   "metadata": {},
   "outputs": [],
   "source": []
  }
 ],
 "metadata": {
  "kernelspec": {
   "display_name": "Python 3",
   "language": "python",
   "name": "python3"
  },
  "language_info": {
   "codemirror_mode": {
    "name": "ipython",
    "version": 3
   },
   "file_extension": ".py",
   "mimetype": "text/x-python",
   "name": "python",
   "nbconvert_exporter": "python",
   "pygments_lexer": "ipython3",
   "version": "3.8.2"
  }
 },
 "nbformat": 4,
 "nbformat_minor": 4
}
